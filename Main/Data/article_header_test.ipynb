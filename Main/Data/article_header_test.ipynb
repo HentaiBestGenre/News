{
 "cells": [
  {
   "cell_type": "code",
   "execution_count": 1,
   "id": "82c43eb1-4a0d-485a-bd94-8fedddb61e99",
   "metadata": {},
   "outputs": [],
   "source": [
    "from bs4 import BeautifulSoup as bs\n",
    "import requests"
   ]
  },
  {
   "cell_type": "code",
   "execution_count": 10,
   "id": "b7a0180b-a9e4-4009-8f45-547175bdac32",
   "metadata": {},
   "outputs": [],
   "source": [
    "from Models import ArticleHeader\n",
    "from Models import get_session"
   ]
  },
  {
   "cell_type": "code",
   "execution_count": 11,
   "id": "4532ae51-406b-4bab-b40e-cc9438948469",
   "metadata": {},
   "outputs": [],
   "source": [
    "headers = {\"User-Agent\" : \"Mozilla/5.0 (Windows NT 10.0; Win64; x64; rv:99.0) Gecko/20100101 Firefox/99.0\"}"
   ]
  },
  {
   "cell_type": "code",
   "execution_count": 20,
   "id": "f6f75b46-5f72-4c90-9c31-8d84c41af249",
   "metadata": {},
   "outputs": [],
   "source": [
    "session, _ = get_session()"
   ]
  },
  {
   "cell_type": "code",
   "execution_count": 21,
   "id": "97ae51c8-02bd-45cf-91da-0759c99ded2e",
   "metadata": {},
   "outputs": [],
   "source": [
    "def parse_urls(page):\n",
    "    host = \"https://www.gamespot.com/news/\"\n",
    "    url = host + f\"?page={page}\"\n",
    "    r = requests.get(url, headers=headers)\n",
    "    soup = bs(r.content)\n",
    "    return soup"
   ]
  },
  {
   "cell_type": "code",
   "execution_count": 22,
   "id": "8e87ae76-78d4-413f-8274-05acd053374c",
   "metadata": {},
   "outputs": [],
   "source": [
    "def pars_urls():\n",
    "    for i in range(1):\n",
    "        articles = parse_urls(i)\n",
    "        articles = articles.findAll('div', class_='card-item')\n",
    "        \n",
    "        for image, body in articles:\n",
    "            article = {\n",
    "                'title': body.a.h4.text,\n",
    "                'url': body.a['href'],\n",
    "                'image_url': image.img['src'],\n",
    "                'date': body.div.time['datetime']\n",
    "            }\n",
    "            article = ArticleHeader(\n",
    "                article[\"title\"],\n",
    "                article[\"url\"],\n",
    "                article[\"image_url\"],\n",
    "                article[\"date\"]\n",
    "            )\n",
    "            try: \n",
    "                session.add(article)\n",
    "            except Exception as e:\n",
    "                print(article.__repr__())\n",
    "                print(\"\\n==========================================================\\n\")\n",
    "                \n",
    "                \n",
    "    session.commit()"
   ]
  },
  {
   "cell_type": "code",
   "execution_count": 23,
   "id": "4d8fb625-38b8-4752-ab5e-091d19a84fd4",
   "metadata": {},
   "outputs": [],
   "source": [
    "pars_urls()"
   ]
  },
  {
   "cell_type": "code",
   "execution_count": null,
   "id": "62def952-3ff5-47c7-af81-44ebe2bb45a3",
   "metadata": {},
   "outputs": [],
   "source": []
  }
 ],
 "metadata": {
  "kernelspec": {
   "display_name": "Python 3 (ipykernel)",
   "language": "python",
   "name": "python3"
  },
  "language_info": {
   "codemirror_mode": {
    "name": "ipython",
    "version": 3
   },
   "file_extension": ".py",
   "mimetype": "text/x-python",
   "name": "python",
   "nbconvert_exporter": "python",
   "pygments_lexer": "ipython3",
   "version": "3.10.9"
  }
 },
 "nbformat": 4,
 "nbformat_minor": 5
}
