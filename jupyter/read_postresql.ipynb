{
 "cells": [
  {
   "cell_type": "code",
   "execution_count": 1,
   "id": "b9a069cc-ff14-49d6-9389-b8ef4f081f5b",
   "metadata": {},
   "outputs": [],
   "source": [
    "import pandas as pd\n",
    "import numpy as np\n",
    "import nltk\n",
    "import psycopg2\n",
    "import json"
   ]
  },
  {
   "cell_type": "code",
   "execution_count": 2,
   "id": "f7dd301c-6866-438d-a31f-0ee14ceee4f3",
   "metadata": {},
   "outputs": [],
   "source": [
    "connection = psycopg2.connect(dbname='news_classifier', user='postgres', \n",
    "                        password='Vadim14112003', host='localhost')"
   ]
  },
  {
   "cell_type": "code",
   "execution_count": null,
   "id": "af93ba6d-af92-472d-91db-cfbca2646132",
   "metadata": {},
   "outputs": [],
   "source": [
    "q = 'SELECT * FROM "
   ]
  },
  {
   "cell_type": "code",
   "execution_count": null,
   "id": "fc1078c2-a2cb-4608-9545-4682d14f3a13",
   "metadata": {},
   "outputs": [],
   "source": [
    "cursor = connection.cursor()\n",
    "cursor.execute(q)\n",
    "res = cursor.fetchall()\n",
    "cursor.close()"
   ]
  },
  {
   "cell_type": "code",
   "execution_count": null,
   "id": "3211a6f3",
   "metadata": {},
   "outputs": [],
   "source": []
  }
 ],
 "metadata": {
  "kernelspec": {
   "display_name": "Python 3 (ipykernel)",
   "language": "python",
   "name": "python3"
  },
  "language_info": {
   "codemirror_mode": {
    "name": "ipython",
    "version": 3
   },
   "file_extension": ".py",
   "mimetype": "text/x-python",
   "name": "python",
   "nbconvert_exporter": "python",
   "pygments_lexer": "ipython3",
   "version": "3.10.9"
  }
 },
 "nbformat": 4,
 "nbformat_minor": 5
}
