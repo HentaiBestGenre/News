{
 "cells": [
  {
   "cell_type": "code",
   "execution_count": 3,
   "id": "b44dd59c",
   "metadata": {},
   "outputs": [],
   "source": [
    "import nltk\n",
    "nltk.download('punkt')\n",
    "from nltk.tokenize import word_tokenize\n",
    "\n",
    "from pymongo import MongoClient\n",
    "import pandas as pd\n",
    "import numpy as np\n",
    "\n",
    "import requests\n",
    "import time\n",
    "import json\n",
    "from datetime import datetime, timedelta"
   ]
  },
  {
   "cell_type": "code",
   "execution_count": null,
   "id": "96a11a5e",
   "metadata": {},
   "outputs": [],
   "source": [
    "key = 'moby_dEWdtOk9rPY6zvkucUY971GFGuf'\n",
    "offset = 0\n",
    "endpoint = f\"https://api.mobygames.com/v1/games?offset={offset}&format=brief&api_key={key}\""
   ]
  },
  {
   "cell_type": "code",
   "execution_count": null,
   "id": "48fdb10e",
   "metadata": {},
   "outputs": [],
   "source": [
    "def time_out():\n",
    "    shift = start + timedelta(hours = 1) - datetime.now()\n",
    "    time.sleep(shift.seconds)"
   ]
  },
  {
   "cell_type": "code",
   "execution_count": null,
   "id": "28b6c373",
   "metadata": {},
   "outputs": [],
   "source": [
    "def make_request(endpoint, repite=False):\n",
    "    response = requests.get(endpoint).content\n",
    "    response = json.loads(response)\n",
    "    if response.get('code') in [400]:\n",
    "        print(\n",
    "            f\"Error {response.get('code')} : \\n\\t\" + response.get(\"error\") + \"\\n\\tMessage:\" + response.get(\"message\") + \"\\n\\t OFSET: \" + offset\n",
    "        )\n",
    "        return {\"status\": \"Error\", \"content\": None}\n",
    "    if response.get('code') in [401, 404, 422]:\n",
    "        print(\n",
    "            f\"Error {response.get('code')} : \\n\\t\" + response.get(\"error\") + \"\\n\\tMessage:\" + response.get(\"message\") + \"\\n\\t OFSET: \" + offset\n",
    "        )\n",
    "        raise Exception(\n",
    "            f\"Error {response.get('code')} : \\n\\t\" + response.get(\"error\") + \"\\n\\tMessage:\" + response.get(\"message\") + \"\\n\\t OFSET: \" + offset\n",
    "        )\n",
    "    if response.get('code') == 429:\n",
    "        print(\n",
    "            f\"Error {response.get('code')} : \\n\\t\" + response.get(\"error\") + \"\\n\\tMessage:\" + response.get(\"message\") + \"\\n\\t OFSET: \" + offset\n",
    "        )\n",
    "        return {\"status\": \"Error\", \"content\": None}\n",
    "    return {\"status\": \"OK\", \"content\": response.get(\"games\")}"
   ]
  },
  {
   "cell_type": "code",
   "execution_count": null,
   "id": "33a75fde",
   "metadata": {},
   "outputs": [],
   "source": [
    "games = []\n",
    "for h in range(4):\n",
    "    start = datetime.now()\n",
    "    for i in range(360):\n",
    "        endpoint = f\"https://api.mobygames.com/v1/games?offset={offset}&format=brief&api_key={key}\"\n",
    "        r = make_request(endpoint)\n",
    "        if r['status'] == \"OK\":\n",
    "            games += r['content']\n",
    "            offset += 100\n",
    "        time.sleep(1)\n",
    "    time_out()"
   ]
  },
  {
   "cell_type": "code",
   "execution_count": null,
   "id": "c77d1f20",
   "metadata": {},
   "outputs": [],
   "source": [
    "def prepare_tokens(v):\n",
    "    v = v.lower()\n",
    "    tokens = word_tokenize(v)\n",
    "    return {\"value\": v, \"tokens\": tokens, \"l\": len(tokens)}"
   ]
  },
  {
   "cell_type": "code",
   "execution_count": null,
   "id": "45408ea3",
   "metadata": {},
   "outputs": [],
   "source": [
    "games = [{**i,\"type\": 'game' ,**prepare_tokens(i[\"title\"])} for i in games]"
   ]
  },
  {
   "cell_type": "code",
   "execution_count": null,
   "id": "223933c7",
   "metadata": {},
   "outputs": [],
   "source": [
    "with open(\"games.json\", 'w') as f:\n",
    "    json.dump(games, f)"
   ]
  },
  {
   "cell_type": "code",
   "execution_count": 4,
   "id": "0f027f57",
   "metadata": {},
   "outputs": [],
   "source": [
    "client = MongoClient('localhost', 27017)"
   ]
  },
  {
   "cell_type": "code",
   "execution_count": 5,
   "id": "1b67b02d",
   "metadata": {},
   "outputs": [],
   "source": [
    "db = client['news_classification']['Tags']"
   ]
  },
  {
   "cell_type": "code",
   "execution_count": 18,
   "id": "942367f2",
   "metadata": {},
   "outputs": [],
   "source": [
    "with open(\"/home/vadim/Projects/news_classifire/Data/tags.json\", 'r') as f:\n",
    "    tags = json.load(f)\n",
    "    tags = sorted(tags, key=lambda x: x['l'], reverse=True)\n",
    "    counter = 0\n",
    "    tags = [{\"_id\": tags.index(i)+1, **i} for i in tags if i['type'] == 'game']"
   ]
  },
  {
   "cell_type": "code",
   "execution_count": 19,
   "id": "4bb11f75",
   "metadata": {},
   "outputs": [
    {
     "data": {
      "text/plain": [
       "<pymongo.results.InsertManyResult at 0x7fcf73f5d720>"
      ]
     },
     "execution_count": 19,
     "metadata": {},
     "output_type": "execute_result"
    }
   ],
   "source": [
    "db.insert_many(tags)"
   ]
  }
 ],
 "metadata": {
  "kernelspec": {
   "display_name": "Python 3 (ipykernel)",
   "language": "python",
   "name": "python3"
  },
  "language_info": {
   "codemirror_mode": {
    "name": "ipython",
    "version": 3
   },
   "file_extension": ".py",
   "mimetype": "text/x-python",
   "name": "python",
   "nbconvert_exporter": "python",
   "pygments_lexer": "ipython3",
   "version": "3.10.6"
  }
 },
 "nbformat": 4,
 "nbformat_minor": 5
}
