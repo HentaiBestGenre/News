{
 "cells": [
  {
   "cell_type": "code",
   "execution_count": 2,
   "id": "4be3a8ab",
   "metadata": {},
   "outputs": [
    {
     "ename": "ImportError",
     "evalue": "libpq.so.5: cannot open shared object file: No such file or directory",
     "output_type": "error",
     "traceback": [
      "\u001b[0;31m---------------------------------------------------------------------------\u001b[0m",
      "\u001b[0;31mImportError\u001b[0m                               Traceback (most recent call last)",
      "Cell \u001b[0;32mIn[2], line 9\u001b[0m\n\u001b[1;32m      7\u001b[0m \u001b[39mimport\u001b[39;00m \u001b[39msubprocess\u001b[39;00m\n\u001b[1;32m      8\u001b[0m \u001b[39mimport\u001b[39;00m \u001b[39mffmpeg\u001b[39;00m\n\u001b[0;32m----> 9\u001b[0m \u001b[39mimport\u001b[39;00m \u001b[39mpsycopg2\u001b[39;00m\n\u001b[1;32m     10\u001b[0m \u001b[39mfrom\u001b[39;00m \u001b[39mdatetime\u001b[39;00m \u001b[39mimport\u001b[39;00m datetime\n",
      "File \u001b[0;32m~/Projects/news_classifier/.venv/lib/python3.10/site-packages/psycopg2/__init__.py:51\u001b[0m\n\u001b[1;32m      1\u001b[0m \u001b[39m\"\"\"A Python driver for PostgreSQL\u001b[39;00m\n\u001b[1;32m      2\u001b[0m \n\u001b[1;32m      3\u001b[0m \u001b[39mpsycopg is a PostgreSQL_ database adapter for the Python_ programming\u001b[39;00m\n\u001b[0;32m   (...)\u001b[0m\n\u001b[1;32m     17\u001b[0m \u001b[39m    TimeFromTicks, Timestamp, TimestampFromTicks\u001b[39;00m\n\u001b[1;32m     18\u001b[0m \u001b[39m\"\"\"\u001b[39;00m\n\u001b[1;32m     19\u001b[0m \u001b[39m# psycopg/__init__.py - initialization of the psycopg module\u001b[39;00m\n\u001b[1;32m     20\u001b[0m \u001b[39m#\u001b[39;00m\n\u001b[1;32m     21\u001b[0m \u001b[39m# Copyright (C) 2003-2019 Federico Di Gregorio  <fog@debian.org>\u001b[39;00m\n\u001b[0;32m   (...)\u001b[0m\n\u001b[1;32m     48\u001b[0m \n\u001b[1;32m     49\u001b[0m \u001b[39m# Import the DBAPI-2.0 stuff into top-level module.\u001b[39;00m\n\u001b[0;32m---> 51\u001b[0m \u001b[39mfrom\u001b[39;00m \u001b[39mpsycopg2\u001b[39;00m\u001b[39m.\u001b[39;00m\u001b[39m_psycopg\u001b[39;00m \u001b[39mimport\u001b[39;00m (                     \u001b[39m# noqa\u001b[39;00m\n\u001b[1;32m     52\u001b[0m     BINARY, NUMBER, STRING, DATETIME, ROWID,\n\u001b[1;32m     53\u001b[0m \n\u001b[1;32m     54\u001b[0m     Binary, Date, Time, Timestamp,\n\u001b[1;32m     55\u001b[0m     DateFromTicks, TimeFromTicks, TimestampFromTicks,\n\u001b[1;32m     56\u001b[0m \n\u001b[1;32m     57\u001b[0m     Error, \u001b[39mWarning\u001b[39;00m, DataError, DatabaseError, ProgrammingError, IntegrityError,\n\u001b[1;32m     58\u001b[0m     InterfaceError, InternalError, NotSupportedError, OperationalError,\n\u001b[1;32m     59\u001b[0m \n\u001b[1;32m     60\u001b[0m     _connect, apilevel, threadsafety, paramstyle,\n\u001b[1;32m     61\u001b[0m     __version__, __libpq_version__,\n\u001b[1;32m     62\u001b[0m )\n\u001b[1;32m     65\u001b[0m \u001b[39m# Register default adapters.\u001b[39;00m\n\u001b[1;32m     67\u001b[0m \u001b[39mfrom\u001b[39;00m \u001b[39mpsycopg2\u001b[39;00m \u001b[39mimport\u001b[39;00m extensions \u001b[39mas\u001b[39;00m _ext\n",
      "\u001b[0;31mImportError\u001b[0m: libpq.so.5: cannot open shared object file: No such file or directory"
     ]
    }
   ],
   "source": [
    "import pandas as pd\n",
    "from bs4 import BeautifulSoup as bs\n",
    "import requests\n",
    "import json\n",
    "import re\n",
    "import m3u8\n",
    "import subprocess\n",
    "import ffmpeg\n",
    "import psycopg2\n",
    "from datetime import datetime"
   ]
  },
  {
   "cell_type": "code",
   "execution_count": 5,
   "id": "a2bd1fd0",
   "metadata": {
    "tags": []
   },
   "outputs": [],
   "source": [
    "headers = {\"User-Agent\" : \"Mozilla/5.0 (Windows NT 10.0; Win64; x64; rv:99.0) Gecko/20100101 Firefox/99.0\"}"
   ]
  },
  {
   "cell_type": "code",
   "execution_count": 6,
   "id": "a749388f",
   "metadata": {},
   "outputs": [],
   "source": [
    "def parse_urls(page):\n",
    "    host = \"https://www.gamespot.com/news/\"\n",
    "    url = host + f\"?page={page}\"\n",
    "    r = requests.get(url, headers=headers)\n",
    "    soup = bs(r.content)\n",
    "    return soup"
   ]
  },
  {
   "cell_type": "code",
   "execution_count": 7,
   "id": "bd8ef532",
   "metadata": {},
   "outputs": [],
   "source": [
    "def get_connection(): \n",
    "    return psycopg2.connect(dbname='news_classifier', user='postgres', \n",
    "                            password='Vadim14112003', host='localhost')"
   ]
  },
  {
   "cell_type": "code",
   "execution_count": 8,
   "id": "71d8dc87",
   "metadata": {},
   "outputs": [],
   "source": [
    "def save_article_link(data):\n",
    "    try:\n",
    "        cursor = connection.cursor()\n",
    "        q = \"INSERT INTO public.gamespot_article(url, article_title, publish, image_url) VALUES (%s, %s, %s, %s);\"\n",
    "        cursor.execute(q, (data['url'], data['title'], data['date'], data['iamge_url']))\n",
    "        connection.commit()\n",
    "    except (Exception, psycopg2.DatabaseError) as error:\n",
    "        connection.close()\n",
    "    finally:\n",
    "        cursor.close()"
   ]
  },
  {
   "cell_type": "code",
   "execution_count": null,
   "id": "c187c28a",
   "metadata": {},
   "outputs": [],
   "source": []
  },
  {
   "cell_type": "code",
   "execution_count": null,
   "id": "31cfb9f9",
   "metadata": {},
   "outputs": [],
   "source": []
  },
  {
   "cell_type": "code",
   "execution_count": null,
   "id": "8bcf3dfc",
   "metadata": {},
   "outputs": [],
   "source": [
    "def pars_urls():\n",
    "    connection = get_connection()\n",
    "    for i in range(1, 46):\n",
    "        articles = parse_urls(i)\n",
    "\n",
    "        articles = articles.findAll('div', class_='card-item')\n",
    "        for image, body in articles:\n",
    "            article = {\n",
    "                'iamge_url': image.img['src'],\n",
    "                'url': body.a['href'],\n",
    "                'title': body.a.h4.text,\n",
    "                'date': datetime.strptime(body.div.time['datetime'], '%A, %b %d, %Y %I:%M%p')\n",
    "            }\n",
    "            save_article_link(article)\n",
    "\n",
    "    connection.close()"
   ]
  },
  {
   "cell_type": "code",
   "execution_count": null,
   "id": "2729ebf0",
   "metadata": {},
   "outputs": [],
   "source": []
  },
  {
   "cell_type": "code",
   "execution_count": null,
   "id": "987fdfb1",
   "metadata": {},
   "outputs": [],
   "source": []
  },
  {
   "cell_type": "code",
   "execution_count": 44,
   "id": "244e1193",
   "metadata": {},
   "outputs": [],
   "source": [
    "connection = get_connection()"
   ]
  },
  {
   "cell_type": "code",
   "execution_count": 45,
   "id": "9307fbd5",
   "metadata": {},
   "outputs": [],
   "source": [
    "try:\n",
    "    cursor = connection.cursor()\n",
    "    q = \"SELECT * public.gamespot_article;\"\n",
    "    data = cursor.execute(q)\n",
    "    data = cursor.fetchall()\n",
    "except (Exception, psycopg2.DatabaseError) as error:\n",
    "    connection.close()\n",
    "finally:\n",
    "    cursor.close()"
   ]
  },
  {
   "cell_type": "code",
   "execution_count": 46,
   "id": "4af98662",
   "metadata": {},
   "outputs": [],
   "source": [
    "connection.close()"
   ]
  },
  {
   "cell_type": "code",
   "execution_count": 49,
   "id": "e28739f1",
   "metadata": {},
   "outputs": [],
   "source": [
    "data = [{\n",
    "    'id': id_,\n",
    "    'title': title,\n",
    "    'url': url,\n",
    "    'date_publish': date,\n",
    "    'image_url': image,\n",
    "} for id_, title, url, date, image in data]"
   ]
  },
  {
   "cell_type": "code",
   "execution_count": 55,
   "id": "950d9701",
   "metadata": {},
   "outputs": [
    {
     "name": "stdout",
     "output_type": "stream",
     "text": [
      "2023-03-25\n"
     ]
    }
   ],
   "source": [
    "print(list(filter(lambda x: x['date_publish'] != None, data))[0]['date_publish'])"
   ]
  },
  {
   "cell_type": "code",
   "execution_count": null,
   "id": "b2aad258",
   "metadata": {},
   "outputs": [],
   "source": [
    "def get_articles():\n",
    "    "
   ]
  }
 ],
 "metadata": {
  "kernelspec": {
   "display_name": "Python 3 (ipykernel)",
   "language": "python",
   "name": "python3"
  },
  "language_info": {
   "codemirror_mode": {
    "name": "ipython",
    "version": 3
   },
   "file_extension": ".py",
   "mimetype": "text/x-python",
   "name": "python",
   "nbconvert_exporter": "python",
   "pygments_lexer": "ipython3",
   "version": "3.10.9"
  }
 },
 "nbformat": 4,
 "nbformat_minor": 5
}
