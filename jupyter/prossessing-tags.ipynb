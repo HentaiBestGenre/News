{
 "cells": [
  {
   "cell_type": "code",
   "execution_count": 1,
   "metadata": {
    "execution": {
     "iopub.execute_input": "2023-06-21T08:59:58.275202Z",
     "iopub.status.busy": "2023-06-21T08:59:58.274703Z",
     "iopub.status.idle": "2023-06-21T09:01:08.106699Z",
     "shell.execute_reply": "2023-06-21T09:01:08.104547Z",
     "shell.execute_reply.started": "2023-06-21T08:59:58.275167Z"
    },
    "jupyter": {
     "outputs_hidden": true
    }
   },
   "outputs": [
    {
     "name": "stdout",
     "output_type": "stream",
     "text": [
      "Defaulting to user installation because normal site-packages is not writeable\n",
      "Requirement already satisfied: pyspark in /home/vadim/.local/lib/python3.10/site-packages (3.4.0)\n",
      "Requirement already satisfied: py4j==0.10.9.7 in /home/vadim/.local/lib/python3.10/site-packages (from pyspark) (0.10.9.7)\n",
      "Defaulting to user installation because normal site-packages is not writeable\n",
      "Collecting spark-nlp\n",
      "  Downloading spark_nlp-4.4.4-py2.py3-none-any.whl (489 kB)\n",
      "\u001b[2K     \u001b[38;2;114;156;31m━━━━━━━━━━━━━━━━━━━━━━━━━━━━━━━━━━━━━━━\u001b[0m \u001b[32m489.8/489.8 kB\u001b[0m \u001b[31m3.7 MB/s\u001b[0m eta \u001b[36m0:00:00\u001b[0m MB/s\u001b[0m eta \u001b[36m0:00:01\u001b[0m:01\u001b[0m\n",
      "\u001b[?25hInstalling collected packages: spark-nlp\n",
      "Successfully installed spark-nlp-4.4.4\n"
     ]
    }
   ],
   "source": [
    "!pip install pyspark\n",
    "!pip install spark-nlp"
   ]
  },
  {
   "cell_type": "code",
   "execution_count": 2,
   "metadata": {
    "execution": {
     "iopub.execute_input": "2023-06-21T09:01:08.110231Z",
     "iopub.status.busy": "2023-06-21T09:01:08.109748Z",
     "iopub.status.idle": "2023-06-21T09:01:15.927246Z",
     "shell.execute_reply": "2023-06-21T09:01:15.926132Z",
     "shell.execute_reply.started": "2023-06-21T09:01:08.110186Z"
    },
    "jupyter": {
     "outputs_hidden": true
    }
   },
   "outputs": [
    {
     "name": "stderr",
     "output_type": "stream",
     "text": [
      "23/06/25 20:47:18 WARN Utils: Your hostname, vadim-hp resolves to a loopback address: 127.0.1.1; using 192.168.100.189 instead (on interface eno1)\n",
      "23/06/25 20:47:18 WARN Utils: Set SPARK_LOCAL_IP if you need to bind to another address\n",
      "Setting default log level to \"WARN\".\n",
      "To adjust logging level use sc.setLogLevel(newLevel). For SparkR, use setLogLevel(newLevel).\n",
      "23/06/25 20:47:19 WARN NativeCodeLoader: Unable to load native-hadoop library for your platform... using builtin-java classes where applicable\n"
     ]
    },
    {
     "data": {
      "text/html": [
       "\n",
       "            <div>\n",
       "                <p><b>SparkSession - in-memory</b></p>\n",
       "                \n",
       "        <div>\n",
       "            <p><b>SparkContext</b></p>\n",
       "\n",
       "            <p><a href=\"http://192.168.100.189:4040\">Spark UI</a></p>\n",
       "\n",
       "            <dl>\n",
       "              <dt>Version</dt>\n",
       "                <dd><code>v3.4.0</code></dd>\n",
       "              <dt>Master</dt>\n",
       "                <dd><code>local[*]</code></dd>\n",
       "              <dt>AppName</dt>\n",
       "                <dd><code>NLP</code></dd>\n",
       "            </dl>\n",
       "        </div>\n",
       "        \n",
       "            </div>\n",
       "        "
      ],
      "text/plain": [
       "<pyspark.sql.session.SparkSession at 0x7fd4d1b0f6a0>"
      ]
     },
     "execution_count": 2,
     "metadata": {},
     "output_type": "execute_result"
    }
   ],
   "source": [
    "from pyspark.sql import SparkSession, DataFrame\n",
    "import pyspark.sql.functions as F\n",
    "from pyspark.sql.types import StringType, ArrayType\n",
    "\n",
    "from pyspark.ml import Pipeline, Transformer\n",
    "from pyspark.ml.param.shared import HasInputCol, HasOutputCol, Param, Params, TypeConverters\n",
    "from pyspark.ml.feature import Bucketizer\n",
    "\n",
    "spark = SparkSession.builder.appName('NLP').getOrCreate()\n",
    "spark"
   ]
  },
  {
   "cell_type": "code",
   "execution_count": 8,
   "metadata": {
    "_cell_guid": "b1076dfc-b9ad-4769-8c92-a6c4dae69d19",
    "_uuid": "8f2839f25d086af736a60e9eeb907d3b93b6e0e5",
    "execution": {
     "iopub.execute_input": "2023-06-21T09:06:29.038982Z",
     "iopub.status.busy": "2023-06-21T09:06:29.038431Z",
     "iopub.status.idle": "2023-06-21T09:06:29.047201Z",
     "shell.execute_reply": "2023-06-21T09:06:29.045972Z",
     "shell.execute_reply.started": "2023-06-21T09:06:29.038938Z"
    },
    "jupyter": {
     "outputs_hidden": true
    },
    "scrolled": true
   },
   "outputs": [
    {
     "name": "stderr",
     "output_type": "stream",
     "text": [
      "[nltk_data] Downloading package punkt to /home/vadim/nltk_data...\n",
      "[nltk_data]   Package punkt is already up-to-date!\n"
     ]
    }
   ],
   "source": [
    "import nltk\n",
    "nltk.download('punkt')\n",
    "from nltk.tokenize import sent_tokenize, word_tokenize\n",
    "\n",
    "import numpy as np\n",
    "import pandas as pd\n",
    "import matplotlib.pyplot as plt\n",
    "\n",
    "from pymongo import MongoClient\n",
    "db = MongoClient(host='localhost', port=27017)['news_classification']"
   ]
  },
  {
   "cell_type": "code",
   "execution_count": 4,
   "metadata": {
    "execution": {
     "iopub.execute_input": "2023-06-21T09:06:29.162065Z",
     "iopub.status.busy": "2023-06-21T09:06:29.161354Z",
     "iopub.status.idle": "2023-06-21T09:06:29.167480Z",
     "shell.execute_reply": "2023-06-21T09:06:29.166189Z",
     "shell.execute_reply.started": "2023-06-21T09:06:29.162024Z"
    }
   },
   "outputs": [],
   "source": [
    "import json\n",
    "from datetime import datetime"
   ]
  },
  {
   "cell_type": "code",
   "execution_count": null,
   "metadata": {},
   "outputs": [],
   "source": [
    "# read franchise"
   ]
  },
  {
   "cell_type": "code",
   "execution_count": null,
   "metadata": {},
   "outputs": [],
   "source": []
  },
  {
   "cell_type": "code",
   "execution_count": 228,
   "metadata": {
    "execution": {
     "iopub.execute_input": "2023-06-21T13:31:21.646548Z",
     "iopub.status.busy": "2023-06-21T13:31:21.646095Z",
     "iopub.status.idle": "2023-06-21T13:31:21.662492Z",
     "shell.execute_reply": "2023-06-21T13:31:21.661111Z",
     "shell.execute_reply.started": "2023-06-21T13:31:21.646513Z"
    }
   },
   "outputs": [],
   "source": [
    "tokens_df = pd.DataFrame(franchise)[['name', 'slug', 'games_count', \"rating_count\", \"games_titles_tokens\"]]\n",
    "tokens_df = tokens_df.rename(columns={\"name\": \"tag_name\", \"slug\": \"tag_slug\"})"
   ]
  },
  {
   "cell_type": "code",
   "execution_count": 229,
   "metadata": {
    "execution": {
     "iopub.execute_input": "2023-06-21T13:31:22.243557Z",
     "iopub.status.busy": "2023-06-21T13:31:22.243103Z",
     "iopub.status.idle": "2023-06-21T13:31:22.265895Z",
     "shell.execute_reply": "2023-06-21T13:31:22.264436Z",
     "shell.execute_reply.started": "2023-06-21T13:31:22.243523Z"
    }
   },
   "outputs": [],
   "source": [
    "tokens_df1 = tokens_df.explode('games_titles_tokens', ignore_index=True)"
   ]
  },
  {
   "cell_type": "code",
   "execution_count": 230,
   "metadata": {
    "execution": {
     "iopub.execute_input": "2023-06-21T13:31:24.334877Z",
     "iopub.status.busy": "2023-06-21T13:31:24.334429Z",
     "iopub.status.idle": "2023-06-21T13:31:24.354581Z",
     "shell.execute_reply": "2023-06-21T13:31:24.352967Z",
     "shell.execute_reply.started": "2023-06-21T13:31:24.334826Z"
    }
   },
   "outputs": [
    {
     "data": {
      "text/html": [
       "<div>\n",
       "<style scoped>\n",
       "    .dataframe tbody tr th:only-of-type {\n",
       "        vertical-align: middle;\n",
       "    }\n",
       "\n",
       "    .dataframe tbody tr th {\n",
       "        vertical-align: top;\n",
       "    }\n",
       "\n",
       "    .dataframe thead th {\n",
       "        text-align: right;\n",
       "    }\n",
       "</style>\n",
       "<table border=\"1\" class=\"dataframe\">\n",
       "  <thead>\n",
       "    <tr style=\"text-align: right;\">\n",
       "      <th></th>\n",
       "      <th>tag_name</th>\n",
       "      <th>tag_slug</th>\n",
       "      <th>games_count</th>\n",
       "      <th>rating_count</th>\n",
       "      <th>games_titles_tokens</th>\n",
       "    </tr>\n",
       "  </thead>\n",
       "  <tbody>\n",
       "    <tr>\n",
       "      <th>0</th>\n",
       "      <td>Pac-Man</td>\n",
       "      <td>pac-man</td>\n",
       "      <td>219</td>\n",
       "      <td>161</td>\n",
       "      <td>{'value': 'street fighter x tekken', 'tokens':...</td>\n",
       "    </tr>\n",
       "    <tr>\n",
       "      <th>1</th>\n",
       "      <td>Pac-Man</td>\n",
       "      <td>pac-man</td>\n",
       "      <td>219</td>\n",
       "      <td>161</td>\n",
       "      <td>{'value': 'pac-man world rally', 'tokens': ['p...</td>\n",
       "    </tr>\n",
       "    <tr>\n",
       "      <th>2</th>\n",
       "      <td>Pac-Man</td>\n",
       "      <td>pac-man</td>\n",
       "      <td>219</td>\n",
       "      <td>161</td>\n",
       "      <td>{'value': 'pac-man', 'tokens': ['pac-man'], 'l...</td>\n",
       "    </tr>\n",
       "    <tr>\n",
       "      <th>3</th>\n",
       "      <td>Pac-Man</td>\n",
       "      <td>pac-man</td>\n",
       "      <td>219</td>\n",
       "      <td>161</td>\n",
       "      <td>{'value': 'ms. pac-man: maze madness', 'tokens...</td>\n",
       "    </tr>\n",
       "    <tr>\n",
       "      <th>4</th>\n",
       "      <td>Pac-Man</td>\n",
       "      <td>pac-man</td>\n",
       "      <td>219</td>\n",
       "      <td>161</td>\n",
       "      <td>{'value': 'pac-man fever', 'tokens': ['pac-man...</td>\n",
       "    </tr>\n",
       "  </tbody>\n",
       "</table>\n",
       "</div>"
      ],
      "text/plain": [
       "  tag_name tag_slug  games_count  rating_count  \\\n",
       "0  Pac-Man  pac-man          219           161   \n",
       "1  Pac-Man  pac-man          219           161   \n",
       "2  Pac-Man  pac-man          219           161   \n",
       "3  Pac-Man  pac-man          219           161   \n",
       "4  Pac-Man  pac-man          219           161   \n",
       "\n",
       "                                 games_titles_tokens  \n",
       "0  {'value': 'street fighter x tekken', 'tokens':...  \n",
       "1  {'value': 'pac-man world rally', 'tokens': ['p...  \n",
       "2  {'value': 'pac-man', 'tokens': ['pac-man'], 'l...  \n",
       "3  {'value': 'ms. pac-man: maze madness', 'tokens...  \n",
       "4  {'value': 'pac-man fever', 'tokens': ['pac-man...  "
      ]
     },
     "execution_count": 230,
     "metadata": {},
     "output_type": "execute_result"
    }
   ],
   "source": [
    "tokens_df1.head()"
   ]
  },
  {
   "cell_type": "code",
   "execution_count": 231,
   "metadata": {
    "execution": {
     "iopub.execute_input": "2023-06-21T13:31:27.248761Z",
     "iopub.status.busy": "2023-06-21T13:31:27.247694Z",
     "iopub.status.idle": "2023-06-21T13:31:27.354832Z",
     "shell.execute_reply": "2023-06-21T13:31:27.353271Z",
     "shell.execute_reply.started": "2023-06-21T13:31:27.248703Z"
    }
   },
   "outputs": [],
   "source": [
    "tokens_df2 = tokens_df1.join(pd.json_normalize(tokens_df1.games_titles_tokens)).drop(labels='games_titles_tokens', axis=1)"
   ]
  },
  {
   "cell_type": "code",
   "execution_count": 232,
   "metadata": {
    "execution": {
     "iopub.execute_input": "2023-06-21T13:31:37.743040Z",
     "iopub.status.busy": "2023-06-21T13:31:37.742529Z",
     "iopub.status.idle": "2023-06-21T13:31:37.763017Z",
     "shell.execute_reply": "2023-06-21T13:31:37.761440Z",
     "shell.execute_reply.started": "2023-06-21T13:31:37.743004Z"
    }
   },
   "outputs": [
    {
     "data": {
      "text/html": [
       "<div>\n",
       "<style scoped>\n",
       "    .dataframe tbody tr th:only-of-type {\n",
       "        vertical-align: middle;\n",
       "    }\n",
       "\n",
       "    .dataframe tbody tr th {\n",
       "        vertical-align: top;\n",
       "    }\n",
       "\n",
       "    .dataframe thead th {\n",
       "        text-align: right;\n",
       "    }\n",
       "</style>\n",
       "<table border=\"1\" class=\"dataframe\">\n",
       "  <thead>\n",
       "    <tr style=\"text-align: right;\">\n",
       "      <th></th>\n",
       "      <th>tag_name</th>\n",
       "      <th>tag_slug</th>\n",
       "      <th>games_count</th>\n",
       "      <th>rating_count</th>\n",
       "      <th>value</th>\n",
       "      <th>tokens</th>\n",
       "      <th>l</th>\n",
       "    </tr>\n",
       "  </thead>\n",
       "  <tbody>\n",
       "    <tr>\n",
       "      <th>0</th>\n",
       "      <td>Pac-Man</td>\n",
       "      <td>pac-man</td>\n",
       "      <td>219</td>\n",
       "      <td>161</td>\n",
       "      <td>street fighter x tekken</td>\n",
       "      <td>[street, fighter, x, tekken]</td>\n",
       "      <td>4</td>\n",
       "    </tr>\n",
       "    <tr>\n",
       "      <th>1</th>\n",
       "      <td>Pac-Man</td>\n",
       "      <td>pac-man</td>\n",
       "      <td>219</td>\n",
       "      <td>161</td>\n",
       "      <td>pac-man world rally</td>\n",
       "      <td>[pac-man, world, rally]</td>\n",
       "      <td>3</td>\n",
       "    </tr>\n",
       "    <tr>\n",
       "      <th>2</th>\n",
       "      <td>Pac-Man</td>\n",
       "      <td>pac-man</td>\n",
       "      <td>219</td>\n",
       "      <td>161</td>\n",
       "      <td>pac-man</td>\n",
       "      <td>[pac-man]</td>\n",
       "      <td>1</td>\n",
       "    </tr>\n",
       "    <tr>\n",
       "      <th>3</th>\n",
       "      <td>Pac-Man</td>\n",
       "      <td>pac-man</td>\n",
       "      <td>219</td>\n",
       "      <td>161</td>\n",
       "      <td>ms. pac-man: maze madness</td>\n",
       "      <td>[ms., pac-man, :, maze, madness]</td>\n",
       "      <td>5</td>\n",
       "    </tr>\n",
       "    <tr>\n",
       "      <th>4</th>\n",
       "      <td>Pac-Man</td>\n",
       "      <td>pac-man</td>\n",
       "      <td>219</td>\n",
       "      <td>161</td>\n",
       "      <td>pac-man fever</td>\n",
       "      <td>[pac-man, fever]</td>\n",
       "      <td>2</td>\n",
       "    </tr>\n",
       "  </tbody>\n",
       "</table>\n",
       "</div>"
      ],
      "text/plain": [
       "  tag_name tag_slug  games_count  rating_count                      value  \\\n",
       "0  Pac-Man  pac-man          219           161    street fighter x tekken   \n",
       "1  Pac-Man  pac-man          219           161        pac-man world rally   \n",
       "2  Pac-Man  pac-man          219           161                    pac-man   \n",
       "3  Pac-Man  pac-man          219           161  ms. pac-man: maze madness   \n",
       "4  Pac-Man  pac-man          219           161              pac-man fever   \n",
       "\n",
       "                             tokens  l  \n",
       "0      [street, fighter, x, tekken]  4  \n",
       "1           [pac-man, world, rally]  3  \n",
       "2                         [pac-man]  1  \n",
       "3  [ms., pac-man, :, maze, madness]  5  \n",
       "4                  [pac-man, fever]  2  "
      ]
     },
     "execution_count": 232,
     "metadata": {},
     "output_type": "execute_result"
    }
   ],
   "source": [
    "tokens_df2.head()"
   ]
  },
  {
   "cell_type": "code",
   "execution_count": 233,
   "metadata": {
    "execution": {
     "iopub.execute_input": "2023-06-21T13:31:41.912229Z",
     "iopub.status.busy": "2023-06-21T13:31:41.911702Z",
     "iopub.status.idle": "2023-06-21T13:31:41.948451Z",
     "shell.execute_reply": "2023-06-21T13:31:41.947148Z",
     "shell.execute_reply.started": "2023-06-21T13:31:41.912192Z"
    }
   },
   "outputs": [],
   "source": [
    "tokens_df2['value'] = tokens_df2['value'].map(lambda x: x.replace('é', 'e') if \"é\" in x else x)\n",
    "tokens_df2['tokens'] = tokens_df2['tokens'].map(lambda x: [i.replace('é', 'e') if \"é\" in i else i for i in x])"
   ]
  },
  {
   "cell_type": "code",
   "execution_count": 234,
   "metadata": {
    "execution": {
     "iopub.execute_input": "2023-06-21T13:31:43.101177Z",
     "iopub.status.busy": "2023-06-21T13:31:43.100682Z",
     "iopub.status.idle": "2023-06-21T13:31:43.195935Z",
     "shell.execute_reply": "2023-06-21T13:31:43.194051Z",
     "shell.execute_reply.started": "2023-06-21T13:31:43.101141Z"
    }
   },
   "outputs": [],
   "source": [
    "tokens_df2['value'] = tokens_df2['value'].map(lambda x: x.replace('iv', '4') if 'iv' in x else x)\n",
    "tokens_df2['tokens'] = tokens_df2['tokens'].map(lambda x: [i.replace('iv', '4') if 'iv' in i else i for i in x])\n",
    "tokens_df2['value'] = tokens_df2['value'].map(lambda x: x.replace('iii', '3') if 'iii' in x else x)\n",
    "tokens_df2['tokens'] = tokens_df2['tokens'].map(lambda x: [i.replace('iii', '3') if 'iii' in i else i for i in x])\n",
    "tokens_df2['value'] = tokens_df2['value'].map(lambda x: x.replace('ii', '2') if 'ii' in x else x)\n",
    "tokens_df2['tokens'] = tokens_df2['tokens'].map(lambda x: [i.replace('ii', '2') if 'ii' in i else i for i in x])"
   ]
  },
  {
   "cell_type": "code",
   "execution_count": 236,
   "metadata": {
    "execution": {
     "iopub.execute_input": "2023-06-21T13:32:15.419345Z",
     "iopub.status.busy": "2023-06-21T13:32:15.418899Z",
     "iopub.status.idle": "2023-06-21T13:32:15.429551Z",
     "shell.execute_reply": "2023-06-21T13:32:15.428650Z",
     "shell.execute_reply.started": "2023-06-21T13:32:15.419311Z"
    }
   },
   "outputs": [],
   "source": [
    "tokens_df3 = tokens_df2.rename(columns={\"value\": \"game_name\", \"tokens\": \"game_tokens\", \"l\": \"length\"}) "
   ]
  },
  {
   "cell_type": "code",
   "execution_count": 237,
   "metadata": {
    "execution": {
     "iopub.execute_input": "2023-06-21T13:32:25.151818Z",
     "iopub.status.busy": "2023-06-21T13:32:25.150577Z",
     "iopub.status.idle": "2023-06-21T13:32:25.180911Z",
     "shell.execute_reply": "2023-06-21T13:32:25.179566Z",
     "shell.execute_reply.started": "2023-06-21T13:32:25.151777Z"
    }
   },
   "outputs": [
    {
     "data": {
      "text/html": [
       "<div>\n",
       "<style scoped>\n",
       "    .dataframe tbody tr th:only-of-type {\n",
       "        vertical-align: middle;\n",
       "    }\n",
       "\n",
       "    .dataframe tbody tr th {\n",
       "        vertical-align: top;\n",
       "    }\n",
       "\n",
       "    .dataframe thead th {\n",
       "        text-align: right;\n",
       "    }\n",
       "</style>\n",
       "<table border=\"1\" class=\"dataframe\">\n",
       "  <thead>\n",
       "    <tr style=\"text-align: right;\">\n",
       "      <th></th>\n",
       "      <th>tag_name</th>\n",
       "      <th>tag_slug</th>\n",
       "      <th>games_count</th>\n",
       "      <th>rating_count</th>\n",
       "      <th>game_name</th>\n",
       "      <th>game_tokens</th>\n",
       "      <th>length</th>\n",
       "    </tr>\n",
       "  </thead>\n",
       "  <tbody>\n",
       "    <tr>\n",
       "      <th>10838</th>\n",
       "      <td>Grey's Anatomy</td>\n",
       "      <td>grey-s-anatomy</td>\n",
       "      <td>1</td>\n",
       "      <td>1</td>\n",
       "      <td>grey's anatomy: the video game</td>\n",
       "      <td>[grey, 's, anatomy, :, the, video, game]</td>\n",
       "      <td>7</td>\n",
       "    </tr>\n",
       "    <tr>\n",
       "      <th>1302</th>\n",
       "      <td>PewDiePie</td>\n",
       "      <td>pewdiepie</td>\n",
       "      <td>1</td>\n",
       "      <td>2</td>\n",
       "      <td>pewdiepie: legend of the brofist</td>\n",
       "      <td>[pewdiepie, :, legend, of, the, brofist]</td>\n",
       "      <td>6</td>\n",
       "    </tr>\n",
       "    <tr>\n",
       "      <th>1709</th>\n",
       "      <td>Valkyrie Drive</td>\n",
       "      <td>valkyrie-drive</td>\n",
       "      <td>1</td>\n",
       "      <td>7</td>\n",
       "      <td>valkyrie dr4e: bhikkhuni</td>\n",
       "      <td>[valkyrie, dr4e, :, bhikkhuni]</td>\n",
       "      <td>4</td>\n",
       "    </tr>\n",
       "    <tr>\n",
       "      <th>3007</th>\n",
       "      <td>Ogre</td>\n",
       "      <td>ogre</td>\n",
       "      <td>1</td>\n",
       "      <td>1</td>\n",
       "      <td>ogre</td>\n",
       "      <td>[ogre]</td>\n",
       "      <td>1</td>\n",
       "    </tr>\n",
       "    <tr>\n",
       "      <th>3010</th>\n",
       "      <td>Young Justice</td>\n",
       "      <td>young-justice</td>\n",
       "      <td>1</td>\n",
       "      <td>1</td>\n",
       "      <td>young justice: legacy</td>\n",
       "      <td>[young, justice, :, legacy]</td>\n",
       "      <td>4</td>\n",
       "    </tr>\n",
       "    <tr>\n",
       "      <th>...</th>\n",
       "      <td>...</td>\n",
       "      <td>...</td>\n",
       "      <td>...</td>\n",
       "      <td>...</td>\n",
       "      <td>...</td>\n",
       "      <td>...</td>\n",
       "      <td>...</td>\n",
       "    </tr>\n",
       "    <tr>\n",
       "      <th>12021</th>\n",
       "      <td>Disney</td>\n",
       "      <td>disney</td>\n",
       "      <td>477</td>\n",
       "      <td>263</td>\n",
       "      <td>disney's beauty and the beast: a board game ad...</td>\n",
       "      <td>[disney, 's, beauty, and, the, beast, :, a, bo...</td>\n",
       "      <td>11</td>\n",
       "    </tr>\n",
       "    <tr>\n",
       "      <th>12022</th>\n",
       "      <td>Disney</td>\n",
       "      <td>disney</td>\n",
       "      <td>477</td>\n",
       "      <td>263</td>\n",
       "      <td>dance dance revolution gb disney mix</td>\n",
       "      <td>[dance, dance, revolution, gb, disney, mix]</td>\n",
       "      <td>6</td>\n",
       "    </tr>\n",
       "    <tr>\n",
       "      <th>12023</th>\n",
       "      <td>Disney</td>\n",
       "      <td>disney</td>\n",
       "      <td>477</td>\n",
       "      <td>263</td>\n",
       "      <td>mickey's 123's: the big surprise party</td>\n",
       "      <td>[mickey, 's, 123, 's, :, the, big, surprise, p...</td>\n",
       "      <td>9</td>\n",
       "    </tr>\n",
       "    <tr>\n",
       "      <th>12015</th>\n",
       "      <td>Disney</td>\n",
       "      <td>disney</td>\n",
       "      <td>477</td>\n",
       "      <td>263</td>\n",
       "      <td>disney's donald duck advance</td>\n",
       "      <td>[disney, 's, donald, duck, advance]</td>\n",
       "      <td>5</td>\n",
       "    </tr>\n",
       "    <tr>\n",
       "      <th>11792</th>\n",
       "      <td>Disney</td>\n",
       "      <td>disney</td>\n",
       "      <td>477</td>\n",
       "      <td>263</td>\n",
       "      <td>epic mickey</td>\n",
       "      <td>[epic, mickey]</td>\n",
       "      <td>2</td>\n",
       "    </tr>\n",
       "  </tbody>\n",
       "</table>\n",
       "<p>12485 rows × 7 columns</p>\n",
       "</div>"
      ],
      "text/plain": [
       "             tag_name        tag_slug  games_count  rating_count  \\\n",
       "10838  Grey's Anatomy  grey-s-anatomy            1             1   \n",
       "1302        PewDiePie       pewdiepie            1             2   \n",
       "1709   Valkyrie Drive  valkyrie-drive            1             7   \n",
       "3007             Ogre            ogre            1             1   \n",
       "3010    Young Justice   young-justice            1             1   \n",
       "...               ...             ...          ...           ...   \n",
       "12021          Disney          disney          477           263   \n",
       "12022          Disney          disney          477           263   \n",
       "12023          Disney          disney          477           263   \n",
       "12015          Disney          disney          477           263   \n",
       "11792          Disney          disney          477           263   \n",
       "\n",
       "                                               game_name  \\\n",
       "10838                     grey's anatomy: the video game   \n",
       "1302                    pewdiepie: legend of the brofist   \n",
       "1709                            valkyrie dr4e: bhikkhuni   \n",
       "3007                                                ogre   \n",
       "3010                               young justice: legacy   \n",
       "...                                                  ...   \n",
       "12021  disney's beauty and the beast: a board game ad...   \n",
       "12022               dance dance revolution gb disney mix   \n",
       "12023             mickey's 123's: the big surprise party   \n",
       "12015                       disney's donald duck advance   \n",
       "11792                                        epic mickey   \n",
       "\n",
       "                                             game_tokens  length  \n",
       "10838           [grey, 's, anatomy, :, the, video, game]       7  \n",
       "1302            [pewdiepie, :, legend, of, the, brofist]       6  \n",
       "1709                      [valkyrie, dr4e, :, bhikkhuni]       4  \n",
       "3007                                              [ogre]       1  \n",
       "3010                         [young, justice, :, legacy]       4  \n",
       "...                                                  ...     ...  \n",
       "12021  [disney, 's, beauty, and, the, beast, :, a, bo...      11  \n",
       "12022        [dance, dance, revolution, gb, disney, mix]       6  \n",
       "12023  [mickey, 's, 123, 's, :, the, big, surprise, p...       9  \n",
       "12015                [disney, 's, donald, duck, advance]       5  \n",
       "11792                                     [epic, mickey]       2  \n",
       "\n",
       "[12485 rows x 7 columns]"
      ]
     },
     "execution_count": 237,
     "metadata": {},
     "output_type": "execute_result"
    }
   ],
   "source": [
    "tokens_df3.sort_values('games_count')"
   ]
  },
  {
   "cell_type": "code",
   "execution_count": 239,
   "metadata": {
    "execution": {
     "iopub.execute_input": "2023-06-21T13:32:49.305294Z",
     "iopub.status.busy": "2023-06-21T13:32:49.303538Z",
     "iopub.status.idle": "2023-06-21T13:32:49.624246Z",
     "shell.execute_reply": "2023-06-21T13:32:49.621967Z",
     "shell.execute_reply.started": "2023-06-21T13:32:49.305243Z"
    }
   },
   "outputs": [
    {
     "data": {
      "image/png": "[encoded data removed]",
      "text/plain": [
       "<Figure size 640x480 with 1 Axes>"
      ]
     },
     "metadata": {},
     "output_type": "display_data"
    }
   ],
   "source": [
    "x, y = np.unique(tokens_df3['length'], return_counts=True)\n",
    "fig, ax = plt.subplots()\n",
    "ax.bar(x, y, width=1)\n",
    "plt.show()"
   ]
  },
  {
   "cell_type": "code",
   "execution_count": 240,
   "metadata": {
    "execution": {
     "iopub.execute_input": "2023-06-21T13:32:53.240471Z",
     "iopub.status.busy": "2023-06-21T13:32:53.239660Z",
     "iopub.status.idle": "2023-06-21T13:32:56.900142Z",
     "shell.execute_reply": "2023-06-21T13:32:56.898827Z",
     "shell.execute_reply.started": "2023-06-21T13:32:53.240434Z"
    }
   },
   "outputs": [
    {
     "data": {
      "text/plain": [
       "{'tag_slug': 'pac-man',\n",
       " 'game_name': 'street fighter x tekken',\n",
       " 'game_tokens': ['street', 'fighter', 'x', 'tekken'],\n",
       " 'length': 4}"
      ]
     },
     "execution_count": 240,
     "metadata": {},
     "output_type": "execute_result"
    }
   ],
   "source": [
    "clean_tokens = tokens_df3[['tag_slug', 'game_name', 'game_tokens', 'length']].to_json(orient='records')\n",
    "clean_tokens = json.loads(clean_tokens)\n",
    "clean_tokens[0]"
   ]
  },
  {
   "cell_type": "code",
   "execution_count": 242,
   "metadata": {
    "execution": {
     "iopub.execute_input": "2023-06-21T13:33:01.507431Z",
     "iopub.status.busy": "2023-06-21T13:33:01.506969Z",
     "iopub.status.idle": "2023-06-21T13:33:01.538780Z",
     "shell.execute_reply": "2023-06-21T13:33:01.536943Z",
     "shell.execute_reply.started": "2023-06-21T13:33:01.507396Z"
    },
    "scrolled": false
   },
   "outputs": [
    {
     "data": {
      "text/html": [
       "<div>\n",
       "<style scoped>\n",
       "    .dataframe tbody tr th:only-of-type {\n",
       "        vertical-align: middle;\n",
       "    }\n",
       "\n",
       "    .dataframe tbody tr th {\n",
       "        vertical-align: top;\n",
       "    }\n",
       "\n",
       "    .dataframe thead th {\n",
       "        text-align: right;\n",
       "    }\n",
       "</style>\n",
       "<table border=\"1\" class=\"dataframe\">\n",
       "  <thead>\n",
       "    <tr style=\"text-align: right;\">\n",
       "      <th></th>\n",
       "      <th>tag_name</th>\n",
       "      <th>tag_slug</th>\n",
       "      <th>games_count</th>\n",
       "      <th>rating_count</th>\n",
       "      <th>game_name</th>\n",
       "      <th>game_tokens</th>\n",
       "      <th>length</th>\n",
       "    </tr>\n",
       "  </thead>\n",
       "  <tbody>\n",
       "    <tr>\n",
       "      <th>3910</th>\n",
       "      <td>Diablo</td>\n",
       "      <td>diablo</td>\n",
       "      <td>17</td>\n",
       "      <td>82</td>\n",
       "      <td>diablo 3</td>\n",
       "      <td>[diablo, 3]</td>\n",
       "      <td>2</td>\n",
       "    </tr>\n",
       "    <tr>\n",
       "      <th>3911</th>\n",
       "      <td>Diablo</td>\n",
       "      <td>diablo</td>\n",
       "      <td>17</td>\n",
       "      <td>82</td>\n",
       "      <td>diablo</td>\n",
       "      <td>[diablo]</td>\n",
       "      <td>1</td>\n",
       "    </tr>\n",
       "    <tr>\n",
       "      <th>3912</th>\n",
       "      <td>Diablo</td>\n",
       "      <td>diablo</td>\n",
       "      <td>17</td>\n",
       "      <td>82</td>\n",
       "      <td>diablo 2</td>\n",
       "      <td>[diablo, 2]</td>\n",
       "      <td>2</td>\n",
       "    </tr>\n",
       "    <tr>\n",
       "      <th>3913</th>\n",
       "      <td>Diablo</td>\n",
       "      <td>diablo</td>\n",
       "      <td>17</td>\n",
       "      <td>82</td>\n",
       "      <td>diablo 2: lord of destruction</td>\n",
       "      <td>[diablo, 2, :, lord, of, destruction]</td>\n",
       "      <td>6</td>\n",
       "    </tr>\n",
       "    <tr>\n",
       "      <th>3914</th>\n",
       "      <td>Diablo</td>\n",
       "      <td>diablo</td>\n",
       "      <td>17</td>\n",
       "      <td>82</td>\n",
       "      <td>diablo 3: reaper of souls</td>\n",
       "      <td>[diablo, 3, :, reaper, of, souls]</td>\n",
       "      <td>6</td>\n",
       "    </tr>\n",
       "    <tr>\n",
       "      <th>3915</th>\n",
       "      <td>Diablo</td>\n",
       "      <td>diablo</td>\n",
       "      <td>17</td>\n",
       "      <td>82</td>\n",
       "      <td>diablo: hellfire</td>\n",
       "      <td>[diablo, :, hellfire]</td>\n",
       "      <td>3</td>\n",
       "    </tr>\n",
       "    <tr>\n",
       "      <th>3916</th>\n",
       "      <td>Diablo</td>\n",
       "      <td>diablo</td>\n",
       "      <td>17</td>\n",
       "      <td>82</td>\n",
       "      <td>diablo 3: rise of the necromancer</td>\n",
       "      <td>[diablo, 3, :, rise, of, the, necromancer]</td>\n",
       "      <td>7</td>\n",
       "    </tr>\n",
       "    <tr>\n",
       "      <th>3917</th>\n",
       "      <td>Diablo</td>\n",
       "      <td>diablo</td>\n",
       "      <td>17</td>\n",
       "      <td>82</td>\n",
       "      <td>diablo: battle chest</td>\n",
       "      <td>[diablo, :, battle, chest]</td>\n",
       "      <td>4</td>\n",
       "    </tr>\n",
       "    <tr>\n",
       "      <th>3918</th>\n",
       "      <td>Diablo</td>\n",
       "      <td>diablo</td>\n",
       "      <td>17</td>\n",
       "      <td>82</td>\n",
       "      <td>diablo 3: reaper of souls - ultimate evil edition</td>\n",
       "      <td>[diablo, 3, :, reaper, of, souls, -, ultimate,...</td>\n",
       "      <td>10</td>\n",
       "    </tr>\n",
       "    <tr>\n",
       "      <th>3919</th>\n",
       "      <td>Diablo</td>\n",
       "      <td>diablo</td>\n",
       "      <td>17</td>\n",
       "      <td>82</td>\n",
       "      <td>diablo 3: eternal collection</td>\n",
       "      <td>[diablo, 3, :, eternal, collection]</td>\n",
       "      <td>5</td>\n",
       "    </tr>\n",
       "    <tr>\n",
       "      <th>3920</th>\n",
       "      <td>Diablo</td>\n",
       "      <td>diablo</td>\n",
       "      <td>17</td>\n",
       "      <td>82</td>\n",
       "      <td>diablo immortal</td>\n",
       "      <td>[diablo, immortal]</td>\n",
       "      <td>2</td>\n",
       "    </tr>\n",
       "    <tr>\n",
       "      <th>3921</th>\n",
       "      <td>Diablo</td>\n",
       "      <td>diablo</td>\n",
       "      <td>17</td>\n",
       "      <td>82</td>\n",
       "      <td>diablo 4</td>\n",
       "      <td>[diablo, 4]</td>\n",
       "      <td>2</td>\n",
       "    </tr>\n",
       "    <tr>\n",
       "      <th>3922</th>\n",
       "      <td>Diablo</td>\n",
       "      <td>diablo</td>\n",
       "      <td>17</td>\n",
       "      <td>82</td>\n",
       "      <td>diablo + hellfire</td>\n",
       "      <td>[diablo, +, hellfire]</td>\n",
       "      <td>3</td>\n",
       "    </tr>\n",
       "    <tr>\n",
       "      <th>3923</th>\n",
       "      <td>Diablo</td>\n",
       "      <td>diablo</td>\n",
       "      <td>17</td>\n",
       "      <td>82</td>\n",
       "      <td>diablo 3: battle chest</td>\n",
       "      <td>[diablo, 3, :, battle, chest]</td>\n",
       "      <td>5</td>\n",
       "    </tr>\n",
       "    <tr>\n",
       "      <th>3924</th>\n",
       "      <td>Diablo</td>\n",
       "      <td>diablo</td>\n",
       "      <td>17</td>\n",
       "      <td>82</td>\n",
       "      <td>diablo 2: resurrected</td>\n",
       "      <td>[diablo, 2, :, resurrected]</td>\n",
       "      <td>4</td>\n",
       "    </tr>\n",
       "    <tr>\n",
       "      <th>3925</th>\n",
       "      <td>Diablo</td>\n",
       "      <td>diablo</td>\n",
       "      <td>17</td>\n",
       "      <td>82</td>\n",
       "      <td>diablo 2: resurrected - prime evil collection</td>\n",
       "      <td>[diablo, 2, :, resurrected, -, prime, evil, co...</td>\n",
       "      <td>8</td>\n",
       "    </tr>\n",
       "    <tr>\n",
       "      <th>3926</th>\n",
       "      <td>Diablo</td>\n",
       "      <td>diablo</td>\n",
       "      <td>17</td>\n",
       "      <td>82</td>\n",
       "      <td>diablo junior</td>\n",
       "      <td>[diablo, junior]</td>\n",
       "      <td>2</td>\n",
       "    </tr>\n",
       "  </tbody>\n",
       "</table>\n",
       "</div>"
      ],
      "text/plain": [
       "     tag_name tag_slug  games_count  rating_count  \\\n",
       "3910   Diablo   diablo           17            82   \n",
       "3911   Diablo   diablo           17            82   \n",
       "3912   Diablo   diablo           17            82   \n",
       "3913   Diablo   diablo           17            82   \n",
       "3914   Diablo   diablo           17            82   \n",
       "3915   Diablo   diablo           17            82   \n",
       "3916   Diablo   diablo           17            82   \n",
       "3917   Diablo   diablo           17            82   \n",
       "3918   Diablo   diablo           17            82   \n",
       "3919   Diablo   diablo           17            82   \n",
       "3920   Diablo   diablo           17            82   \n",
       "3921   Diablo   diablo           17            82   \n",
       "3922   Diablo   diablo           17            82   \n",
       "3923   Diablo   diablo           17            82   \n",
       "3924   Diablo   diablo           17            82   \n",
       "3925   Diablo   diablo           17            82   \n",
       "3926   Diablo   diablo           17            82   \n",
       "\n",
       "                                              game_name  \\\n",
       "3910                                           diablo 3   \n",
       "3911                                             diablo   \n",
       "3912                                           diablo 2   \n",
       "3913                      diablo 2: lord of destruction   \n",
       "3914                          diablo 3: reaper of souls   \n",
       "3915                                   diablo: hellfire   \n",
       "3916                  diablo 3: rise of the necromancer   \n",
       "3917                               diablo: battle chest   \n",
       "3918  diablo 3: reaper of souls - ultimate evil edition   \n",
       "3919                       diablo 3: eternal collection   \n",
       "3920                                    diablo immortal   \n",
       "3921                                           diablo 4   \n",
       "3922                                  diablo + hellfire   \n",
       "3923                             diablo 3: battle chest   \n",
       "3924                              diablo 2: resurrected   \n",
       "3925      diablo 2: resurrected - prime evil collection   \n",
       "3926                                      diablo junior   \n",
       "\n",
       "                                            game_tokens  length  \n",
       "3910                                        [diablo, 3]       2  \n",
       "3911                                           [diablo]       1  \n",
       "3912                                        [diablo, 2]       2  \n",
       "3913              [diablo, 2, :, lord, of, destruction]       6  \n",
       "3914                  [diablo, 3, :, reaper, of, souls]       6  \n",
       "3915                              [diablo, :, hellfire]       3  \n",
       "3916         [diablo, 3, :, rise, of, the, necromancer]       7  \n",
       "3917                         [diablo, :, battle, chest]       4  \n",
       "3918  [diablo, 3, :, reaper, of, souls, -, ultimate,...      10  \n",
       "3919                [diablo, 3, :, eternal, collection]       5  \n",
       "3920                                 [diablo, immortal]       2  \n",
       "3921                                        [diablo, 4]       2  \n",
       "3922                              [diablo, +, hellfire]       3  \n",
       "3923                      [diablo, 3, :, battle, chest]       5  \n",
       "3924                        [diablo, 2, :, resurrected]       4  \n",
       "3925  [diablo, 2, :, resurrected, -, prime, evil, co...       8  \n",
       "3926                                   [diablo, junior]       2  "
      ]
     },
     "execution_count": 242,
     "metadata": {},
     "output_type": "execute_result"
    }
   ],
   "source": [
    "tokens_df3[tokens_df3['tag_slug'] == 'diablo']"
   ]
  },
  {
   "cell_type": "code",
   "execution_count": null,
   "metadata": {},
   "outputs": [],
   "source": [
    "json_array = tokens_df3.to_json(orient='records')\n",
    "db['Tags'].insert_many(json_array)"
   ]
  }
 ],
 "metadata": {
  "kernelspec": {
   "display_name": "Python 3 (ipykernel)",
   "language": "python",
   "name": "python3"
  },
  "language_info": {
   "codemirror_mode": {
    "name": "ipython",
    "version": 3
   },
   "file_extension": ".py",
   "mimetype": "text/x-python",
   "name": "python",
   "nbconvert_exporter": "python",
   "pygments_lexer": "ipython3",
   "version": "3.10.6"
  }
 },
 "nbformat": 4,
 "nbformat_minor": 4
}
