{
 "cells": [
  {
   "cell_type": "code",
   "execution_count": 27,
   "id": "406bdf31",
   "metadata": {},
   "outputs": [
    {
     "name": "stdout",
     "output_type": "stream",
     "text": [
      "Defaulting to user installation because normal site-packages is not writeable\n",
      "Requirement already satisfied: pyspark in /home/vadim/.local/lib/python3.10/site-packages (3.4.0)\n",
      "Requirement already satisfied: py4j==0.10.9.7 in /home/vadim/.local/lib/python3.10/site-packages (from pyspark) (0.10.9.7)\n",
      "Defaulting to user installation because normal site-packages is not writeable\n",
      "Requirement already satisfied: spark-nlp in /home/vadim/.local/lib/python3.10/site-packages (4.4.4)\n"
     ]
    }
   ],
   "source": [
    "!pip install pyspark\n",
    "!pip install spark-nlp"
   ]
  },
  {
   "cell_type": "code",
   "execution_count": 28,
   "id": "8bf62713",
   "metadata": {},
   "outputs": [
    {
     "data": {
      "text/html": [
       "\n",
       "            <div>\n",
       "                <p><b>SparkSession - in-memory</b></p>\n",
       "                \n",
       "        <div>\n",
       "            <p><b>SparkContext</b></p>\n",
       "\n",
       "            <p><a href=\"http://192.168.100.189:4041\">Spark UI</a></p>\n",
       "\n",
       "            <dl>\n",
       "              <dt>Version</dt>\n",
       "                <dd><code>v3.4.0</code></dd>\n",
       "              <dt>Master</dt>\n",
       "                <dd><code>local[*]</code></dd>\n",
       "              <dt>AppName</dt>\n",
       "                <dd><code>NLP</code></dd>\n",
       "            </dl>\n",
       "        </div>\n",
       "        \n",
       "            </div>\n",
       "        "
      ],
      "text/plain": [
       "<pyspark.sql.session.SparkSession at 0x7fcdb8b7aaa0>"
      ]
     },
     "execution_count": 28,
     "metadata": {},
     "output_type": "execute_result"
    }
   ],
   "source": [
    "from pyspark.sql import SparkSession, DataFrame\n",
    "import pyspark.sql.functions as F\n",
    "from pyspark.sql.types import StringType, ArrayType\n",
    "\n",
    "from pyspark.ml import Pipeline, Transformer\n",
    "from pyspark.ml.param.shared import HasInputCol, HasOutputCol, Param, Params, TypeConverters\n",
    "from pyspark.ml.feature import Bucketizer\n",
    "\n",
    "spark = SparkSession.builder.appName('NLP').getOrCreate()\n",
    "spark"
   ]
  },
  {
   "cell_type": "code",
   "execution_count": 29,
   "id": "f18cf05d",
   "metadata": {},
   "outputs": [
    {
     "name": "stderr",
     "output_type": "stream",
     "text": [
      "[nltk_data] Downloading package punkt to /home/vadim/nltk_data...\n",
      "[nltk_data]   Package punkt is already up-to-date!\n"
     ]
    }
   ],
   "source": [
    "import nltk\n",
    "nltk.download('punkt')\n",
    "from nltk.tokenize import sent_tokenize, word_tokenize\n",
    "\n",
    "import numpy as np\n",
    "import pandas as pd\n",
    "import matplotlib.pyplot as plt\n",
    "\n",
    "from pymongo import MongoClient\n",
    "db = MongoClient(host='localhost', port=27017)['news_classification']"
   ]
  },
  {
   "cell_type": "code",
   "execution_count": 30,
   "id": "a9358d5e",
   "metadata": {},
   "outputs": [],
   "source": [
    "import json\n",
    "from datetime import datetime"
   ]
  },
  {
   "cell_type": "code",
   "execution_count": 36,
   "id": "3285836d",
   "metadata": {},
   "outputs": [],
   "source": [
    "class WordTokenizer(Transformer, HasInputCol, HasOutputCol):\n",
    "    def __init__(self, inputCol: str = \"input\", outputCol: str = \"output\"):\n",
    "        super(WordTokenizer, self).__init__()\n",
    "        self.inputCol = inputCol\n",
    "        self.outputCol = outputCol\n",
    "\n",
    "    def _transform(self, df: DataFrame) -> DataFrame:\n",
    "        transform_udf = F.udf(lambda x: [word_tokenize(i.lower()) for i in x], ArrayType(StringType()))\n",
    "        return df.withColumn(self.outputCol, transform_udf(df[self.inputCol]))"
   ]
  },
  {
   "cell_type": "code",
   "execution_count": 37,
   "id": "b1fadf25",
   "metadata": {},
   "outputs": [],
   "source": [
    "class BIO(Transformer, HasInputCol, HasOutputCol):\n",
    "    TYPE_FIELD = 'type'\n",
    "    TOCKEN_FIELD = 'tokens'\n",
    "    LENGTH_FIELD = 'l'\n",
    "    \n",
    "    def __init__(self, inputCol: str = \"input\", outputCol: str = \"output\", all_tags: list = []):\n",
    "        super(BIO, self).__init__()\n",
    "        self.inputCol = inputCol\n",
    "        self.outputCol = outputCol\n",
    "        self.all_tags = all_tags\n",
    "\n",
    "    def _transform(self, df: DataFrame) -> DataFrame:\n",
    "        transform_udf = F.udf(self.BIO_format, ArrayType(ArrayType(ArrayType(StringType()))))\n",
    "        return df.withColumn(self.outputCol, transform_udf(df[self.inputCol]))\n",
    "    \n",
    "    def BIO_format(self, sentenses):\n",
    "        BIO_tags = []\n",
    "        for words in sentenses:\n",
    "            tags = [\"O\"] * len(words)\n",
    "            for i in self.all_tags:\n",
    "                tag = i[self.TYPE_FIELD]\n",
    "                tag_words = i[self.TOCKEN_FIELD]\n",
    "                tag_len = i[self.LENGTH_FIELD]\n",
    "                for i in range(len(words) - tag_len + 1):\n",
    "                    if words[i:i+tag_len] == tag_words:\n",
    "                        tags[i] = f\"B-{tag}\"\n",
    "                        for j in range(1, tag_len):\n",
    "                            tags[i+j] = f\"I-{tag}\"\n",
    "\n",
    "            if tags == [\"O\"] * len(words):\n",
    "                continue\n",
    "            BIO_tags.append(list(zip(words, tags)))\n",
    "        return BIO_tags"
   ]
  },
  {
   "cell_type": "code",
   "execution_count": 31,
   "id": "5992ce26",
   "metadata": {},
   "outputs": [],
   "source": [
    "articles = [i for i in db['GameSpotArticles'].find({})]\n",
    "df = spark.createDataFrame(articles).select(['title', 'text'])"
   ]
  },
  {
   "cell_type": "code",
   "execution_count": 38,
   "id": "9556c481",
   "metadata": {
    "scrolled": true
   },
   "outputs": [
    {
     "name": "stderr",
     "output_type": "stream",
     "text": [
      "23/06/25 21:52:46 WARN TaskSetManager: Stage 6 contains a task of very large size (2709 KiB). The maximum recommended task size is 1000 KiB.\n"
     ]
    },
    {
     "ename": "NameError",
     "evalue": "name 'clean_tokens' is not defined",
     "output_type": "error",
     "traceback": [
      "\u001b[0;31m---------------------------------------------------------------------------\u001b[0m",
      "\u001b[0;31mNameError\u001b[0m                                 Traceback (most recent call last)",
      "Cell \u001b[0;32mIn[38], line 3\u001b[0m\n\u001b[1;32m      1\u001b[0m df1 \u001b[38;5;241m=\u001b[39m df\u001b[38;5;241m.\u001b[39mrdd\u001b[38;5;241m.\u001b[39mmap(\u001b[38;5;28;01mlambda\u001b[39;00m x: x \u001b[38;5;241m+\u001b[39m ([x[\u001b[38;5;124m'\u001b[39m\u001b[38;5;124mtitle\u001b[39m\u001b[38;5;124m'\u001b[39m]] \u001b[38;5;241m+\u001b[39m [k[\u001b[38;5;124m'\u001b[39m\u001b[38;5;124mtext\u001b[39m\u001b[38;5;124m'\u001b[39m] \u001b[38;5;28;01mfor\u001b[39;00m k \u001b[38;5;129;01min\u001b[39;00m x[\u001b[38;5;124m'\u001b[39m\u001b[38;5;124mtext\u001b[39m\u001b[38;5;124m'\u001b[39m] \u001b[38;5;28;01mif\u001b[39;00m k[\u001b[38;5;124m'\u001b[39m\u001b[38;5;124misTitle\u001b[39m\u001b[38;5;124m'\u001b[39m]], ))\u001b[38;5;241m.\u001b[39mtoDF([\u001b[38;5;124m\"\u001b[39m\u001b[38;5;124mtitle\u001b[39m\u001b[38;5;124m\"\u001b[39m, \u001b[38;5;124m\"\u001b[39m\u001b[38;5;124mtext\u001b[39m\u001b[38;5;124m\"\u001b[39m, \u001b[38;5;124m'\u001b[39m\u001b[38;5;124mmain_text\u001b[39m\u001b[38;5;124m'\u001b[39m])\n\u001b[1;32m      2\u001b[0m word_transformer \u001b[38;5;241m=\u001b[39m WordTokenizer(inputCol\u001b[38;5;241m=\u001b[39m\u001b[38;5;124m\"\u001b[39m\u001b[38;5;124mmain_text\u001b[39m\u001b[38;5;124m\"\u001b[39m, outputCol\u001b[38;5;241m=\u001b[39m\u001b[38;5;124m\"\u001b[39m\u001b[38;5;124mtokenized_text\u001b[39m\u001b[38;5;124m\"\u001b[39m)\n\u001b[0;32m----> 3\u001b[0m bio_transformer \u001b[38;5;241m=\u001b[39m BIO(inputCol\u001b[38;5;241m=\u001b[39m\u001b[38;5;124m\"\u001b[39m\u001b[38;5;124mtokenized_text\u001b[39m\u001b[38;5;124m\"\u001b[39m, outputCol\u001b[38;5;241m=\u001b[39m\u001b[38;5;124m\"\u001b[39m\u001b[38;5;124mBIO\u001b[39m\u001b[38;5;124m\"\u001b[39m, all_tags\u001b[38;5;241m=\u001b[39m\u001b[43mclean_tokens\u001b[49m)\n\u001b[1;32m      4\u001b[0m bio_transformer\u001b[38;5;241m.\u001b[39mTYPE_FIELD, bio_transformer\u001b[38;5;241m.\u001b[39mTOCKEN_FIELD, bio_transformer\u001b[38;5;241m.\u001b[39mLENGTH_FIELD \u001b[38;5;241m=\u001b[39m \u001b[38;5;124m'\u001b[39m\u001b[38;5;124mtag_slug\u001b[39m\u001b[38;5;124m'\u001b[39m, \u001b[38;5;124m'\u001b[39m\u001b[38;5;124mgame_tokens\u001b[39m\u001b[38;5;124m'\u001b[39m, \u001b[38;5;124m'\u001b[39m\u001b[38;5;124mlength\u001b[39m\u001b[38;5;124m'\u001b[39m\n\u001b[1;32m      5\u001b[0m pipeline \u001b[38;5;241m=\u001b[39m Pipeline(stages\u001b[38;5;241m=\u001b[39m[word_transformer, bio_transformer])\n",
      "\u001b[0;31mNameError\u001b[0m: name 'clean_tokens' is not defined"
     ]
    }
   ],
   "source": [
    "df1 = df.rdd.map(lambda x: x + ([x['title']] + [k['text'] for k in x['text'] if k['isTitle']], )).toDF([\"title\", \"text\", 'main_text'])\n",
    "word_transformer = WordTokenizer(inputCol=\"main_text\", outputCol=\"tokenized_text\")\n",
    "bio_transformer = BIO(inputCol=\"tokenized_text\", outputCol=\"BIO\", all_tags=clean_tokens)\n",
    "bio_transformer.TYPE_FIELD, bio_transformer.TOCKEN_FIELD, bio_transformer.LENGTH_FIELD = 'tag_slug', 'game_tokens', 'length'\n",
    "pipeline = Pipeline(stages=[word_transformer, bio_transformer])\n",
    "model = pipeline.fit(df1)\n",
    "results = model.transform(df1).select('main_text', 'tokenized_text', \"BIO\")\n",
    "results = results.filter(F.size(results.BIO) > 0)\n",
    "results.show()\n",
    "results_pandas = results.toPandas()"
   ]
  },
  {
   "cell_type": "code",
   "execution_count": 245,
   "id": "ee19ad7a",
   "metadata": {
    "execution": {
     "iopub.execute_input": "2023-06-21T13:39:46.060416Z",
     "iopub.status.busy": "2023-06-21T13:39:46.059916Z",
     "iopub.status.idle": "2023-06-21T13:39:46.077033Z",
     "shell.execute_reply": "2023-06-21T13:39:46.075545Z",
     "shell.execute_reply.started": "2023-06-21T13:39:46.060383Z"
    }
   },
   "outputs": [],
   "source": [
    "rdf = results_pandas[[\"main_text\", 'BIO']].explode('BIO', ignore_index=True)"
   ]
  },
  {
   "cell_type": "code",
   "execution_count": 246,
   "id": "32ac486c",
   "metadata": {
    "execution": {
     "iopub.execute_input": "2023-06-21T13:39:47.933219Z",
     "iopub.status.busy": "2023-06-21T13:39:47.932783Z",
     "iopub.status.idle": "2023-06-21T13:39:47.939521Z",
     "shell.execute_reply": "2023-06-21T13:39:47.938180Z",
     "shell.execute_reply.started": "2023-06-21T13:39:47.933188Z"
    }
   },
   "outputs": [],
   "source": [
    "rdf['sentence_id'] = rdf.index"
   ]
  },
  {
   "cell_type": "code",
   "execution_count": 247,
   "id": "196f0618",
   "metadata": {
    "execution": {
     "iopub.execute_input": "2023-06-21T13:39:52.948159Z",
     "iopub.status.busy": "2023-06-21T13:39:52.947734Z",
     "iopub.status.idle": "2023-06-21T13:39:52.970236Z",
     "shell.execute_reply": "2023-06-21T13:39:52.968964Z",
     "shell.execute_reply.started": "2023-06-21T13:39:52.948130Z"
    }
   },
   "outputs": [],
   "source": [
    "rdf2 = rdf.explode('BIO', ignore_index=True)"
   ]
  },
  {
   "cell_type": "code",
   "execution_count": 248,
   "id": "0bbb1019",
   "metadata": {
    "execution": {
     "iopub.execute_input": "2023-06-21T13:39:53.661445Z",
     "iopub.status.busy": "2023-06-21T13:39:53.660761Z",
     "iopub.status.idle": "2023-06-21T13:39:58.216058Z",
     "shell.execute_reply": "2023-06-21T13:39:58.214368Z",
     "shell.execute_reply.started": "2023-06-21T13:39:53.661406Z"
    }
   },
   "outputs": [],
   "source": [
    "rdf2[['BIO_word', 'BIO_tag']] = rdf2[\"BIO\"].apply(lambda x: pd.Series((x[0], x[1])))"
   ]
  },
  {
   "cell_type": "code",
   "execution_count": 249,
   "id": "f562326e",
   "metadata": {
    "execution": {
     "iopub.execute_input": "2023-06-21T13:39:58.219018Z",
     "iopub.status.busy": "2023-06-21T13:39:58.218373Z",
     "iopub.status.idle": "2023-06-21T13:39:58.233749Z",
     "shell.execute_reply": "2023-06-21T13:39:58.231669Z",
     "shell.execute_reply.started": "2023-06-21T13:39:58.218980Z"
    }
   },
   "outputs": [],
   "source": [
    "rdf3 = rdf2[['BIO_word', \"BIO_tag\", \"sentence_id\"]]"
   ]
  },
  {
   "cell_type": "code",
   "execution_count": 250,
   "id": "10cc7d98",
   "metadata": {
    "collapsed": true,
    "execution": {
     "iopub.execute_input": "2023-06-21T13:39:58.237115Z",
     "iopub.status.busy": "2023-06-21T13:39:58.236307Z",
     "iopub.status.idle": "2023-06-21T13:39:58.260535Z",
     "shell.execute_reply": "2023-06-21T13:39:58.258737Z",
     "shell.execute_reply.started": "2023-06-21T13:39:58.237055Z"
    }
   },
   "outputs": [
    {
     "name": "stderr",
     "output_type": "stream",
     "text": [
      "/tmp/ipykernel_33/3307803001.py:1: SettingWithCopyWarning: \n",
      "A value is trying to be set on a copy of a slice from a DataFrame.\n",
      "Try using .loc[row_indexer,col_indexer] = value instead\n",
      "\n",
      "See the caveats in the documentation: https://pandas.pydata.org/pandas-docs/stable/user_guide/indexing.html#returning-a-view-versus-a-copy\n",
      "  rdf3['BIO_type'] = rdf3['BIO_tag'].map(lambda x: x if x == 'O' else f\"{x.split('-')[0]}-game\")\n"
     ]
    }
   ],
   "source": [
    "rdf3['BIO_type'] = rdf3['BIO_tag'].map(lambda x: x if x == 'O' else f\"{x.split('-')[0]}-game\")"
   ]
  },
  {
   "cell_type": "code",
   "execution_count": 251,
   "id": "d2d7f207",
   "metadata": {
    "execution": {
     "iopub.execute_input": "2023-06-21T13:40:03.868315Z",
     "iopub.status.busy": "2023-06-21T13:40:03.867873Z",
     "iopub.status.idle": "2023-06-21T13:40:03.888123Z",
     "shell.execute_reply": "2023-06-21T13:40:03.886393Z",
     "shell.execute_reply.started": "2023-06-21T13:40:03.868283Z"
    }
   },
   "outputs": [
    {
     "data": {
      "text/html": [
       "<div>\n",
       "<style scoped>\n",
       "    .dataframe tbody tr th:only-of-type {\n",
       "        vertical-align: middle;\n",
       "    }\n",
       "\n",
       "    .dataframe tbody tr th {\n",
       "        vertical-align: top;\n",
       "    }\n",
       "\n",
       "    .dataframe thead th {\n",
       "        text-align: right;\n",
       "    }\n",
       "</style>\n",
       "<table border=\"1\" class=\"dataframe\">\n",
       "  <thead>\n",
       "    <tr style=\"text-align: right;\">\n",
       "      <th></th>\n",
       "      <th>BIO_word</th>\n",
       "      <th>BIO_tag</th>\n",
       "      <th>sentence_id</th>\n",
       "      <th>BIO_type</th>\n",
       "    </tr>\n",
       "  </thead>\n",
       "  <tbody>\n",
       "    <tr>\n",
       "      <th>0</th>\n",
       "      <td>almost</td>\n",
       "      <td>O</td>\n",
       "      <td>0</td>\n",
       "      <td>O</td>\n",
       "    </tr>\n",
       "    <tr>\n",
       "      <th>1</th>\n",
       "      <td>all</td>\n",
       "      <td>O</td>\n",
       "      <td>0</td>\n",
       "      <td>O</td>\n",
       "    </tr>\n",
       "    <tr>\n",
       "      <th>2</th>\n",
       "      <td>destiny</td>\n",
       "      <td>B-destiny</td>\n",
       "      <td>0</td>\n",
       "      <td>B-game</td>\n",
       "    </tr>\n",
       "    <tr>\n",
       "      <th>3</th>\n",
       "      <td>2</td>\n",
       "      <td>I-destiny</td>\n",
       "      <td>0</td>\n",
       "      <td>I-game</td>\n",
       "    </tr>\n",
       "    <tr>\n",
       "      <th>4</th>\n",
       "      <td>heavy</td>\n",
       "      <td>O</td>\n",
       "      <td>0</td>\n",
       "      <td>O</td>\n",
       "    </tr>\n",
       "    <tr>\n",
       "      <th>...</th>\n",
       "      <td>...</td>\n",
       "      <td>...</td>\n",
       "      <td>...</td>\n",
       "      <td>...</td>\n",
       "    </tr>\n",
       "    <tr>\n",
       "      <th>27024</th>\n",
       "      <td>eulogize</td>\n",
       "      <td>O</td>\n",
       "      <td>2342</td>\n",
       "      <td>O</td>\n",
       "    </tr>\n",
       "    <tr>\n",
       "      <th>27025</th>\n",
       "      <td>your</td>\n",
       "      <td>O</td>\n",
       "      <td>2342</td>\n",
       "      <td>O</td>\n",
       "    </tr>\n",
       "    <tr>\n",
       "      <th>27026</th>\n",
       "      <td>diablo</td>\n",
       "      <td>B-diablo</td>\n",
       "      <td>2342</td>\n",
       "      <td>B-game</td>\n",
       "    </tr>\n",
       "    <tr>\n",
       "      <th>27027</th>\n",
       "      <td>4</td>\n",
       "      <td>I-diablo</td>\n",
       "      <td>2342</td>\n",
       "      <td>I-game</td>\n",
       "    </tr>\n",
       "    <tr>\n",
       "      <th>27028</th>\n",
       "      <td>death</td>\n",
       "      <td>O</td>\n",
       "      <td>2342</td>\n",
       "      <td>O</td>\n",
       "    </tr>\n",
       "  </tbody>\n",
       "</table>\n",
       "<p>27029 rows × 4 columns</p>\n",
       "</div>"
      ],
      "text/plain": [
       "       BIO_word    BIO_tag  sentence_id BIO_type\n",
       "0        almost          O            0        O\n",
       "1           all          O            0        O\n",
       "2       destiny  B-destiny            0   B-game\n",
       "3             2  I-destiny            0   I-game\n",
       "4         heavy          O            0        O\n",
       "...         ...        ...          ...      ...\n",
       "27024  eulogize          O         2342        O\n",
       "27025      your          O         2342        O\n",
       "27026    diablo   B-diablo         2342   B-game\n",
       "27027         4   I-diablo         2342   I-game\n",
       "27028     death          O         2342        O\n",
       "\n",
       "[27029 rows x 4 columns]"
      ]
     },
     "execution_count": 251,
     "metadata": {},
     "output_type": "execute_result"
    }
   ],
   "source": [
    "rdf3"
   ]
  },
  {
   "cell_type": "code",
   "execution_count": null,
   "id": "626a5c94",
   "metadata": {},
   "outputs": [],
   "source": [
    "json_array = rdf3.to_json(oriented='records')"
   ]
  },
  {
   "cell_type": "code",
   "execution_count": 252,
   "id": "6c13bc1d",
   "metadata": {
    "execution": {
     "iopub.execute_input": "2023-06-21T13:40:14.137793Z",
     "iopub.status.busy": "2023-06-21T13:40:14.137362Z",
     "iopub.status.idle": "2023-06-21T13:40:14.278803Z",
     "shell.execute_reply": "2023-06-21T13:40:14.277395Z",
     "shell.execute_reply.started": "2023-06-21T13:40:14.137761Z"
    }
   },
   "outputs": [],
   "source": [
    "with open(\"BIO_games.csv\", 'w') as f:\n",
    "    rdf3.to_csv(f)"
   ]
  },
  {
   "cell_type": "code",
   "execution_count": 254,
   "id": "209ac174",
   "metadata": {
    "collapsed": true,
    "execution": {
     "iopub.execute_input": "2023-06-21T13:47:56.816887Z",
     "iopub.status.busy": "2023-06-21T13:47:56.816371Z",
     "iopub.status.idle": "2023-06-21T13:47:56.858839Z",
     "shell.execute_reply": "2023-06-21T13:47:56.857406Z",
     "shell.execute_reply.started": "2023-06-21T13:47:56.816837Z"
    }
   },
   "outputs": [
    {
     "data": {
      "text/plain": [
       "array(['B-ace-attorney', 'B-alien', 'B-animal-crossing',\n",
       "       'B-assassins-creed', 'B-attack-on-titan', 'B-banjo-and-kazooie',\n",
       "       'B-batman', 'B-battlefield', 'B-blazblue', 'B-bolt',\n",
       "       'B-borderlands', 'B-call-of-duty', 'B-castlevania', 'B-conan',\n",
       "       'B-contra', 'B-crash-bandicoot', 'B-cyberpunk', 'B-dc-comics',\n",
       "       'B-dead-space', 'B-deadpool', 'B-destiny', 'B-diablo', 'B-digimon',\n",
       "       'B-disney', 'B-donkey-kong', 'B-doom', 'B-dora-the-explorer',\n",
       "       'B-dota', 'B-double-dragon', 'B-dragon-age', 'B-dragon-ball',\n",
       "       'B-dungeons-dragons', 'B-f-zero', 'B-fables', 'B-fallout',\n",
       "       'B-final-fantasy', 'B-fire-emblem', 'B-fortnite', 'B-forza',\n",
       "       'B-frank-herbert-s-dune', 'B-friday-the-13th', 'B-front-mission',\n",
       "       'B-game-of-thrones', 'B-genshin-impact', 'B-ghostbusters',\n",
       "       'B-god-of-war', 'B-godzilla', 'B-gran-turismo',\n",
       "       'B-granblue-fantasy', 'B-grand-theft-auto', 'B-gremlins',\n",
       "       'B-guilty-gear', 'B-gungrave', 'B-half-life', 'B-halo',\n",
       "       'B-harry-potter', 'B-harvest-moon', 'B-honkai', 'B-horizon',\n",
       "       'B-hot-wheels', 'B-independence-day', 'B-indiana-jones',\n",
       "       'B-iron-man', 'B-james-bond', 'B-james-cameron-s-avatar',\n",
       "       'B-killer-instinct', 'B-kingdom-hearts', 'B-kirby',\n",
       "       'B-league-of-legends', 'B-lego', 'B-life-is-strange',\n",
       "       'B-littlebigplanet', 'B-looney-tunes', 'B-lost', 'B-mario',\n",
       "       'B-marvel', 'B-mass-effect', 'B-max-payne', 'B-mega-man',\n",
       "       'B-megami-tensei', 'B-metal-gear', 'B-metal-slug', 'B-metroid',\n",
       "       'B-minecraft', 'B-mlb', 'B-monster-hunter', 'B-mortal-kombat',\n",
       "       'B-nba', 'B-nfl', 'B-nhl', 'B-ni-no-kuni', 'B-nioh', 'B-ogre',\n",
       "       'B-one-piece', 'B-perfect-dark', 'B-phantasy-star', 'B-pikmin',\n",
       "       'B-pokemon', 'B-prince-of-persia', 'B-ratchet-and-clank',\n",
       "       'B-rayman', 'B-resident-evil', 'B-robocop', 'B-rocky',\n",
       "       'B-romance-of-the-three-kingdoms', 'B-samurai-shodown', 'B-saw',\n",
       "       'B-silent-hill', 'B-sonic-the-hedgehog', 'B-spider-man',\n",
       "       'B-splatoon', 'B-spongebob-squarepants', 'B-star-fox',\n",
       "       'B-star-ocean', 'B-star-trek', 'B-star-wars',\n",
       "       'B-starship-troopers', 'B-street-fighter', 'B-streets-of-rage',\n",
       "       'B-teenage-mutant-ninja-turtles', 'B-tekken', 'B-terminator',\n",
       "       'B-tetris', 'B-the-elder-scrolls', 'B-the-king-of-fighters',\n",
       "       'B-the-last-of-us', 'B-the-legend-of-heroes',\n",
       "       'B-the-legend-of-zelda', 'B-the-lord-of-the-rings', 'B-the-matrix',\n",
       "       'B-the-witcher', 'B-titanfall', 'B-tomb-raider', 'B-tony-hawks',\n",
       "       'B-top-gun', 'B-total-war', 'B-trackmania', 'B-transformers',\n",
       "       'B-tron', 'B-ufc', 'B-uncharted', 'B-virtua-fighter', 'B-warcraft',\n",
       "       'B-warhammer', 'B-warhammer-40-000', 'B-wars',\n",
       "       'B-world-of-darkness', 'B-world-war-z', 'B-wwe', 'B-wwf',\n",
       "       'B-yakuza', 'I-ace-attorney', 'I-animal-crossing',\n",
       "       'I-assassins-creed', 'I-attack-on-titan', 'I-batman',\n",
       "       'I-battlefield', 'I-blazblue', 'I-borderlands', 'I-call-of-duty',\n",
       "       'I-castlevania', 'I-contra', 'I-crash-bandicoot', 'I-cyberpunk',\n",
       "       'I-dc-comics', 'I-dead-space', 'I-destiny', 'I-diablo',\n",
       "       'I-digimon', 'I-disney', 'I-donkey-kong', 'I-doom', 'I-dota',\n",
       "       'I-double-dragon', 'I-dragon-age', 'I-dragon-ball',\n",
       "       'I-dungeons-dragons', 'I-f-zero', 'I-fables', 'I-fallout',\n",
       "       'I-final-fantasy', 'I-fire-emblem', 'I-forza', 'I-friday-the-13th',\n",
       "       'I-front-mission', 'I-game-of-thrones', 'I-genshin-impact',\n",
       "       'I-ghostbusters', 'I-god-of-war', 'I-gran-turismo',\n",
       "       'I-granblue-fantasy', 'I-grand-theft-auto', 'I-guilty-gear',\n",
       "       'I-halo', 'I-harry-potter', 'I-harvest-moon', 'I-honkai',\n",
       "       'I-horizon', 'I-hot-wheels', 'I-independence-day',\n",
       "       'I-indiana-jones', 'I-iron-man', 'I-james-bond',\n",
       "       'I-james-cameron-s-avatar', 'I-killer-instinct',\n",
       "       'I-kingdom-hearts', 'I-kirby', 'I-league-of-legends', 'I-lego',\n",
       "       'I-life-is-strange', 'I-littlebigplanet', 'I-looney-tunes',\n",
       "       'I-mario', 'I-marvel', 'I-mass-effect', 'I-max-payne',\n",
       "       'I-mega-man', 'I-megami-tensei', 'I-metal-gear', 'I-metal-slug',\n",
       "       'I-metroid', 'I-mlb', 'I-monster-hunter', 'I-mortal-kombat',\n",
       "       'I-nba', 'I-nfl', 'I-nhl', 'I-ni-no-kuni', 'I-nioh', 'I-one-piece',\n",
       "       'I-perfect-dark', 'I-phantasy-star', 'I-pikmin', 'I-pokemon',\n",
       "       'I-prince-of-persia', 'I-ratchet-and-clank', 'I-rayman',\n",
       "       'I-resident-evil', 'I-robocop', 'I-romance-of-the-three-kingdoms',\n",
       "       'I-samurai-shodown', 'I-silent-hill', 'I-sonic-the-hedgehog',\n",
       "       'I-spider-man', 'I-splatoon', 'I-spongebob-squarepants',\n",
       "       'I-star-fox', 'I-star-ocean', 'I-star-trek', 'I-star-wars',\n",
       "       'I-starship-troopers', 'I-street-fighter', 'I-streets-of-rage',\n",
       "       'I-teenage-mutant-ninja-turtles', 'I-tekken', 'I-terminator',\n",
       "       'I-the-elder-scrolls', 'I-the-king-of-fighters',\n",
       "       'I-the-last-of-us', 'I-the-legend-of-heroes',\n",
       "       'I-the-legend-of-zelda', 'I-the-lord-of-the-rings', 'I-the-matrix',\n",
       "       'I-the-witcher', 'I-titanfall', 'I-tomb-raider', 'I-tony-hawks',\n",
       "       'I-top-gun', 'I-total-war', 'I-tron', 'I-ufc', 'I-uncharted',\n",
       "       'I-virtua-fighter', 'I-warcraft', 'I-warhammer',\n",
       "       'I-warhammer-40-000', 'I-wars', 'I-world-of-darkness',\n",
       "       'I-world-war-z', 'I-wwe', 'I-wwf', 'I-yoshi', 'O'], dtype=object)"
      ]
     },
     "execution_count": 254,
     "metadata": {},
     "output_type": "execute_result"
    }
   ],
   "source": [
    "np.unique(rdf2['BIO_tag'])"
   ]
  },
  {
   "cell_type": "code",
   "execution_count": null,
   "id": "273e811f",
   "metadata": {},
   "outputs": [],
   "source": [
    "# write data"
   ]
  }
 ],
 "metadata": {
  "kernelspec": {
   "display_name": "Python 3 (ipykernel)",
   "language": "python",
   "name": "python3"
  },
  "language_info": {
   "codemirror_mode": {
    "name": "ipython",
    "version": 3
   },
   "file_extension": ".py",
   "mimetype": "text/x-python",
   "name": "python",
   "nbconvert_exporter": "python",
   "pygments_lexer": "ipython3",
   "version": "3.10.6"
  }
 },
 "nbformat": 4,
 "nbformat_minor": 5
}
