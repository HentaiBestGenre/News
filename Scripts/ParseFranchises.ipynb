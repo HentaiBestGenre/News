{
 "cells": [
  {
   "cell_type": "code",
   "execution_count": null,
   "metadata": {},
   "outputs": [],
   "source": [
    "import requests\n",
    "import json\n",
    "from datetime import datetime, timedelta\n",
    "import time\n",
    "from tqdm import tqdm\n",
    "\n",
    "import nltk\n",
    "nltk.download('punkt')\n",
    "from nltk.tokenize import word_tokenize\n",
    "\n",
    "from pymongo import MongoClient\n",
    "import pandas as pd\n",
    "import numpy as np\n",
    "from matplotlib import pyplot as plt"
   ]
  },
  {
   "cell_type": "code",
   "execution_count": null,
   "metadata": {},
   "outputs": [],
   "source": [
    "# from Services import IGDB\n",
    "\n",
    "class TooManyRequests(Exception):\n",
    "    def __init__(self) -> None:\n",
    "        super().__init__(\"Too Many Requests\")\n",
    "        \n",
    "\n",
    "class IGDB:    \n",
    "    def __init__(self, client_id, secret_key, access_token=None) -> None:\n",
    "        if access_token is None:\n",
    "            access_token = self.create_access_token(secret_key, client_id)\n",
    "        self.client_id = client_id\n",
    "        self.secret_key = secret_key\n",
    "        self.access_token = access_token\n",
    "\n",
    "    def post(self, url: str, headers: dict, queue: dict, data: str):\n",
    "        url = url + f\"?\" + \"&\".join([f\"{i}={v}\" for i, v in queue.items()])\n",
    "        response = requests.post(url, headers=headers, data=data)\n",
    "        if response.status_code == 429:\n",
    "            raise TooManyRequests()\n",
    "        elif response.status_code != 200:\n",
    "            raise Exception(f\"Error {response.status_code}\\n{response.content}\")\n",
    "        return json.loads(response.content)\n",
    "        \n",
    "    def create_access_token(self, secret_key, client_id):\n",
    "        url = f\"https://id.twitch.tv/oauth2/token\"\n",
    "        headers = {\n",
    "            \"User-Agent\": \"Mozilla/5.0 (Windows NT 10.0; Win64; x64; rv:99.0) Gecko/20100101 Firefox/99.0\"\n",
    "        }\n",
    "        queue = {\n",
    "            'client_secret': secret_key,\n",
    "            'client_id': client_id,\n",
    "            \"grant_type\": \"client_credentials\"\n",
    "        }\n",
    "        data = {}\n",
    "        response = self.post(url, url, headers=headers, queue=queue, data=data)\n",
    "        return response['access_token']\n",
    "        \n",
    "    def get_franchises(self, offset=0, limit=500):\n",
    "        url = 'https://api.igdb.com/v4/franchises'\n",
    "        headers = {\n",
    "            'Client-ID': self.client_id, \n",
    "            'Authorization': f'Bearer {self.access_token}'\n",
    "        }\n",
    "        queue = {}\n",
    "        data = f'''fields checksum,\n",
    "            created_at,\n",
    "            games.aggregated_rating, games.aggregated_rating_count, games.alternative_names.name, games.category, games.name,\n",
    "            name,\n",
    "            slug,\n",
    "            updated_at,\n",
    "            url;\n",
    "            limit {limit};\n",
    "            offset {offset};'''\n",
    "        \n",
    "        return self.post(url, headers=headers, queue=queue, data=data)\n",
    "        \n",
    "    def __str__(self):\n",
    "        return f\"client_id: {self.client_id}\\n\\tsecret_key: {self.secret_key}\\n\\taccess_token: {self.access_token}\"\n",
    "    def __repr__(self):\n",
    "        return f\"client_id: {self.client_id}\\nsecret_key: {self.secret_key}\\naccess_token: {self.access_token}\"\n"
   ]
  },
  {
   "cell_type": "code",
   "execution_count": null,
   "metadata": {
    "_cell_guid": "b1076dfc-b9ad-4769-8c92-a6c4dae69d19",
    "_uuid": "8f2839f25d086af736a60e9eeb907d3b93b6e0e5",
    "execution": {
     "iopub.execute_input": "2023-06-20T21:37:07.357399Z",
     "iopub.status.busy": "2023-06-20T21:37:07.356967Z",
     "iopub.status.idle": "2023-06-20T21:37:07.362636Z",
     "shell.execute_reply": "2023-06-20T21:37:07.361118Z",
     "shell.execute_reply.started": "2023-06-20T21:37:07.357365Z"
    }
   },
   "outputs": [],
   "source": [
    "client_id = 'k94eqeuau4fkat8yih6utw06h8b5lf'\n",
    "secret_key = 'ruxijny32hunyfpa8m8vfoskm0ogk6'\n",
    "access_token = \"ot866i6dteo91c3teidmagbkgymk4r\""
   ]
  },
  {
   "cell_type": "code",
   "execution_count": null,
   "metadata": {
    "execution": {
     "iopub.execute_input": "2023-06-20T21:37:08.695468Z",
     "iopub.status.busy": "2023-06-20T21:37:08.695090Z",
     "iopub.status.idle": "2023-06-20T21:37:08.702665Z",
     "shell.execute_reply": "2023-06-20T21:37:08.701703Z",
     "shell.execute_reply.started": "2023-06-20T21:37:08.695437Z"
    }
   },
   "outputs": [],
   "source": [
    "client = IGDB(client_id, secret_key, access_token)\n",
    "client"
   ]
  },
  {
   "cell_type": "code",
   "execution_count": null,
   "metadata": {
    "execution": {
     "iopub.execute_input": "2023-06-20T21:37:11.093469Z",
     "iopub.status.busy": "2023-06-20T21:37:11.093030Z",
     "iopub.status.idle": "2023-06-20T21:37:17.917061Z",
     "shell.execute_reply": "2023-06-20T21:37:17.915979Z",
     "shell.execute_reply.started": "2023-06-20T21:37:11.093435Z"
    }
   },
   "outputs": [],
   "source": [
    "f1 = client.get_franchises(0)\n",
    "f2 = client.get_franchises(500)\n",
    "f3 = client.get_franchises(1000)\n",
    "f4 = client.get_franchises(1500)\n",
    "franchises = f1 + f2 + f3 + f4"
   ]
  },
  {
   "cell_type": "code",
   "execution_count": null,
   "metadata": {
    "execution": {
     "iopub.execute_input": "2023-06-20T19:37:36.438208Z",
     "iopub.status.busy": "2023-06-20T19:37:36.436979Z",
     "iopub.status.idle": "2023-06-20T19:37:36.928380Z",
     "shell.execute_reply": "2023-06-20T19:37:36.927453Z",
     "shell.execute_reply.started": "2023-06-20T19:37:36.438164Z"
    }
   },
   "outputs": [],
   "source": [
    "with open('/home/vadim/Projects/news_classifire/Data/igdb_franchise.json', 'w') as file:\n",
    "    json.dump(franchises, file)"
   ]
  },
  {
   "cell_type": "code",
   "execution_count": null,
   "metadata": {
    "execution": {
     "iopub.execute_input": "2023-06-20T21:37:28.770960Z",
     "iopub.status.busy": "2023-06-20T21:37:28.770570Z",
     "iopub.status.idle": "2023-06-20T21:37:28.913577Z",
     "shell.execute_reply": "2023-06-20T21:37:28.912544Z",
     "shell.execute_reply.started": "2023-06-20T21:37:28.770928Z"
    }
   },
   "outputs": [],
   "source": [
    "df = pd.DataFrame(franchises).dropna()\n",
    "df.head()"
   ]
  },
  {
   "cell_type": "code",
   "execution_count": null,
   "metadata": {
    "execution": {
     "iopub.execute_input": "2023-06-20T21:37:57.783634Z",
     "iopub.status.busy": "2023-06-20T21:37:57.783228Z",
     "iopub.status.idle": "2023-06-20T21:37:57.790777Z",
     "shell.execute_reply": "2023-06-20T21:37:57.789662Z",
     "shell.execute_reply.started": "2023-06-20T21:37:57.783603Z"
    }
   },
   "outputs": [],
   "source": [
    "df['games_count'] = df['games'].map(lambda x: len(x))\n",
    "df['average_rating'] = df['games'].map(lambda x: sum([i.get('aggregated_rating_count') if i.get('aggregated_rating_count') is not None else 0 for i in x])/len(x))\n",
    "df['votes_count'] = df['games'].map(lambda x: sum([i.get('aggregated_rating_count') if i.get('aggregated_rating_count') is not None else 0 for i in x]))"
   ]
  },
  {
   "cell_type": "code",
   "execution_count": null,
   "metadata": {
    "execution": {
     "iopub.execute_input": "2023-06-20T21:40:17.339867Z",
     "iopub.status.busy": "2023-06-20T21:40:17.339381Z",
     "iopub.status.idle": "2023-06-20T21:40:17.451953Z",
     "shell.execute_reply": "2023-06-20T21:40:17.450845Z",
     "shell.execute_reply.started": "2023-06-20T21:40:17.339827Z"
    }
   },
   "outputs": [],
   "source": [
    "df.head()"
   ]
  },
  {
   "cell_type": "code",
   "execution_count": null,
   "metadata": {
    "execution": {
     "iopub.execute_input": "2023-06-20T21:40:22.091681Z",
     "iopub.status.busy": "2023-06-20T21:40:22.090490Z",
     "iopub.status.idle": "2023-06-20T21:40:22.098285Z",
     "shell.execute_reply": "2023-06-20T21:40:22.097262Z",
     "shell.execute_reply.started": "2023-06-20T21:40:22.091640Z"
    }
   },
   "outputs": [],
   "source": [
    "df2 = df[(df['votes_count'] >= 1) & (df['games_count'] >= 1)]\n",
    "df2['games_titles'] = df2['games'].map(lambda x: [i['name'] for i in x])"
   ]
  },
  {
   "cell_type": "code",
   "execution_count": null,
   "metadata": {
    "execution": {
     "iopub.execute_input": "2023-06-20T22:08:49.448637Z",
     "iopub.status.busy": "2023-06-20T22:08:49.448192Z",
     "iopub.status.idle": "2023-06-20T22:08:49.479990Z",
     "shell.execute_reply": "2023-06-20T22:08:49.478824Z",
     "shell.execute_reply.started": "2023-06-20T22:08:49.448606Z"
    }
   },
   "outputs": [],
   "source": [
    "df3 = df2[['id', \"name\", \"slug\", \"games_count\", \"average_rating\", \"votes_count\", \"games_titles\"]]\n",
    "df3.head(10)"
   ]
  },
  {
   "cell_type": "code",
   "execution_count": null,
   "metadata": {
    "execution": {
     "iopub.execute_input": "2023-06-20T22:50:42.128302Z",
     "iopub.status.busy": "2023-06-20T22:50:42.127867Z",
     "iopub.status.idle": "2023-06-20T22:50:42.134547Z",
     "shell.execute_reply": "2023-06-20T22:50:42.133363Z",
     "shell.execute_reply.started": "2023-06-20T22:50:42.128264Z"
    }
   },
   "outputs": [],
   "source": [
    "def prepare_tokens(v):\n",
    "    v = v.lower()\n",
    "    tokens = word_tokenize(v)\n",
    "    return {\"value\": v, \"tokens\": tokens, \"l\": len(tokens)}"
   ]
  },
  {
   "cell_type": "code",
   "execution_count": null,
   "metadata": {
    "execution": {
     "iopub.execute_input": "2023-06-20T23:05:07.263228Z",
     "iopub.status.busy": "2023-06-20T23:05:07.262823Z",
     "iopub.status.idle": "2023-06-20T23:05:07.364269Z",
     "shell.execute_reply": "2023-06-20T23:05:07.363123Z",
     "shell.execute_reply.started": "2023-06-20T23:05:07.263198Z"
    }
   },
   "outputs": [],
   "source": [
    "df3['franchise_token'] = df3['name'].map(lambda x: prepare_tokens(x))\n",
    "df3['games_titles_tokens'] = df3['games_titles'].map(lambda x: [prepare_tokens(i) for i in x])"
   ]
  },
  {
   "cell_type": "code",
   "execution_count": null,
   "metadata": {
    "execution": {
     "iopub.execute_input": "2023-06-20T23:39:02.571875Z",
     "iopub.status.busy": "2023-06-20T23:39:02.571487Z",
     "iopub.status.idle": "2023-06-20T23:39:02.627028Z",
     "shell.execute_reply": "2023-06-20T23:39:02.626078Z",
     "shell.execute_reply.started": "2023-06-20T23:39:02.571845Z"
    }
   },
   "outputs": [],
   "source": [
    "with open(\"/home/vadim/Projects/news_classifire/Data/clean_franchise.json\", 'w') as f:\n",
    "    df3.to_json(f, orient='records')"
   ]
  },
  {
   "cell_type": "code",
   "execution_count": null,
   "metadata": {
    "execution": {
     "iopub.execute_input": "2023-06-20T20:18:11.941263Z",
     "iopub.status.busy": "2023-06-20T20:18:11.940003Z",
     "iopub.status.idle": "2023-06-20T20:18:11.947154Z",
     "shell.execute_reply": "2023-06-20T20:18:11.946020Z",
     "shell.execute_reply.started": "2023-06-20T20:18:11.941222Z"
    }
   },
   "outputs": [],
   "source": [
    "x, y = np.unique(df2['games_count'], return_counts=True)"
   ]
  },
  {
   "cell_type": "code",
   "execution_count": null,
   "metadata": {
    "execution": {
     "iopub.execute_input": "2023-06-20T20:44:02.711463Z",
     "iopub.status.busy": "2023-06-20T20:44:02.710753Z",
     "iopub.status.idle": "2023-06-20T20:44:02.720765Z",
     "shell.execute_reply": "2023-06-20T20:44:02.719217Z",
     "shell.execute_reply.started": "2023-06-20T20:44:02.711418Z"
    }
   },
   "outputs": [],
   "source": [
    "x"
   ]
  },
  {
   "cell_type": "code",
   "execution_count": null,
   "metadata": {
    "execution": {
     "iopub.execute_input": "2023-06-20T20:18:14.402933Z",
     "iopub.status.busy": "2023-06-20T20:18:14.402007Z",
     "iopub.status.idle": "2023-06-20T20:18:14.659756Z",
     "shell.execute_reply": "2023-06-20T20:18:14.658471Z",
     "shell.execute_reply.started": "2023-06-20T20:18:14.402892Z"
    }
   },
   "outputs": [],
   "source": [
    "fig, ax = plt.subplots()\n",
    "\n",
    "ax.stem(x, y)\n",
    "plt.show()"
   ]
  }
 ],
 "metadata": {
  "kernelspec": {
   "display_name": "Python 3 (ipykernel)",
   "language": "python",
   "name": "python3"
  },
  "language_info": {
   "codemirror_mode": {
    "name": "ipython",
    "version": 3
   },
   "file_extension": ".py",
   "mimetype": "text/x-python",
   "name": "python",
   "nbconvert_exporter": "python",
   "pygments_lexer": "ipython3",
   "version": "3.10.6"
  }
 },
 "nbformat": 4,
 "nbformat_minor": 4
}
