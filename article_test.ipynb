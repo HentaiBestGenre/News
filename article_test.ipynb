{
 "cells": [
  {
   "cell_type": "code",
   "execution_count": 37,
   "id": "fbef7893-e38e-4f0f-b3ef-28e87efd0532",
   "metadata": {},
   "outputs": [],
   "source": [
    "from bs4 import BeautifulSoup as bs\n",
    "import requests\n",
    "import json\n",
    "from pymongo import MongoClient\n",
    "\n",
    "from Main.Data.Models.DBClient import get_session\n",
    "from Main.Data.Models.Models import ArticleHeader\n",
    "from Main import Article\n",
    "from Main.Config import DATA_DIR"
   ]
  },
  {
   "cell_type": "code",
   "execution_count": 48,
   "id": "798aa385-f3df-469c-a1b7-0ab0589e3308",
   "metadata": {},
   "outputs": [],
   "source": [
    "headers = {\"User-Agent\" : \"Mozilla/5.0 (X11; Linux x86_64; rv:109.0) Gecko/20100101 Firefox/112.0\"}\n",
    "session, _ = get_session()"
   ]
  },
  {
   "cell_type": "code",
   "execution_count": 49,
   "id": "6c9af67d-085e-4ed5-9eb5-e0d6efda193c",
   "metadata": {},
   "outputs": [],
   "source": [
    "def parse_urls(page):\n",
    "    host = \"https://www.gamespot.com/news/\"\n",
    "    url = host + f\"?page={page}\"\n",
    "    r = requests.get(url, headers=headers)\n",
    "    soup = bs(r.content)\n",
    "    return soup"
   ]
  },
  {
   "cell_type": "code",
   "execution_count": 53,
   "id": "513447e8-fe78-4cee-a671-0b70e8d7276d",
   "metadata": {},
   "outputs": [],
   "source": [
    "article_headers = session.query(ArticleHeader).all()\n",
    "url = 'https://www.gamespot.com/articles/spider-man-across-the-spider-verse-latest-trailer-new-cast-and-everything-else-we-know/1100-6511448/'"
   ]
  },
  {
   "cell_type": "code",
   "execution_count": 51,
   "id": "7ab288ff-897a-4dc0-a76b-fcf11227158b",
   "metadata": {},
   "outputs": [],
   "source": [
    "page = requests.get(url, headers=headers).content"
   ]
  },
  {
   "cell_type": "code",
   "execution_count": 60,
   "id": "0127916e-9e1f-409a-ba94-3e95dc84ab74",
   "metadata": {},
   "outputs": [],
   "source": [
    "with open(\"test.html\", \"wb\") as f:\n",
    "    f.write(page)"
   ]
  },
  {
   "cell_type": "code",
   "execution_count": null,
   "id": "8fc4bbd0-c347-47b8-9f87-a6dcd026fb00",
   "metadata": {},
   "outputs": [],
   "source": []
  },
  {
   "cell_type": "code",
   "execution_count": 36,
   "id": "75a7d1bc",
   "metadata": {},
   "outputs": [],
   "source": [
    "import json\n",
    "import numpy as np"
   ]
  },
  {
   "cell_type": "code",
   "execution_count": 68,
   "id": "7434d0ba",
   "metadata": {},
   "outputs": [],
   "source": [
    "with open(\"errors.json\", 'r') as f:\n",
    "    errors = json.load(f)"
   ]
  },
  {
   "cell_type": "code",
   "execution_count": 69,
   "id": "b555f769",
   "metadata": {},
   "outputs": [
    {
     "data": {
      "text/plain": [
       "{'40': 'ConnectionError(MaxRetryError(\\'HTTPSConnectionPool(host=\\\\\\'gamespot1.cbsistatic.com\\\\\\', port=443): Max retries exceeded with url: /uploads/original/1179/11799911/3201069-xbox1.jpg (Caused by NameResolutionError(\"<urllib3.connection.HTTPSConnection object at 0x7f15385468f0>: Failed to resolve \\\\\\'gamespot1.cbsistatic.com\\\\\\' ([Errno -2] Name or service not known)\"))\\'))',\n",
       " '280': \"KeyError('src')\",\n",
       " '380': \"AttributeError('NoneType' object has no attribute 'find')\"}"
      ]
     },
     "execution_count": 69,
     "metadata": {},
     "output_type": "execute_result"
    }
   ],
   "source": [
    "errors"
   ]
  },
  {
   "cell_type": "code",
   "execution_count": 64,
   "id": "8d0d1faa",
   "metadata": {},
   "outputs": [],
   "source": [
    "correct = [69, 74, 143, 297, 298, 361, 380, 426, 512, 665, 721]"
   ]
  },
  {
   "cell_type": "code",
   "execution_count": 66,
   "id": "070e84eb",
   "metadata": {},
   "outputs": [],
   "source": [
    "new_errors = {k: v for k, v in errors.items() if int(k) not in correct}"
   ]
  },
  {
   "cell_type": "code",
   "execution_count": 67,
   "id": "2f3d5096",
   "metadata": {},
   "outputs": [],
   "source": [
    "with open(\"errors.json\", 'w') as f:\n",
    "    json.dump(new_errors, f)"
   ]
  },
  {
   "cell_type": "code",
   "execution_count": 62,
   "id": "f9a1c374",
   "metadata": {},
   "outputs": [
    {
     "data": {
      "text/plain": [
       "{'40': 'ConnectionError(MaxRetryError(\\'HTTPSConnectionPool(host=\\\\\\'gamespot1.cbsistatic.com\\\\\\', port=443): Max retries exceeded with url: /uploads/original/1179/11799911/3201069-xbox1.jpg (Caused by NameResolutionError(\"<urllib3.connection.HTTPSConnection object at 0x7f15385468f0>: Failed to resolve \\\\\\'gamespot1.cbsistatic.com\\\\\\' ([Errno -2] Name or service not known)\"))\\'))',\n",
       " '69': \"IndexError('list index out of range')\",\n",
       " '74': \"IndexError('list index out of range')\",\n",
       " '143': \"IndexError('list index out of range')\",\n",
       " '280': \"KeyError('src')\",\n",
       " '297': \"IndexError('list index out of range')\",\n",
       " '298': \"IndexError('list index out of range')\",\n",
       " '361': 'too many values to unpack (expected 2)',\n",
       " '380': 'AttributeError(\"\\'NoneType\\' object has no attribute \\'find\\'\")',\n",
       " '426': \"IndexError('list index out of range')\",\n",
       " '512': \"IndexError('list index out of range')\",\n",
       " '665': \"IndexError('list index out of range')\",\n",
       " '721': \"IndexError('list index out of range')\"}"
      ]
     },
     "execution_count": 62,
     "metadata": {},
     "output_type": "execute_result"
    }
   ],
   "source": [
    "new_errors"
   ]
  },
  {
   "cell_type": "code",
   "execution_count": 63,
   "id": "354a7da5",
   "metadata": {},
   "outputs": [
    {
     "data": {
      "text/plain": [
       "dict_keys(['40', '69', '74', '143', '280', '297', '298', '361', '380', '426', '512', '665', '721'])"
      ]
     },
     "execution_count": 63,
     "metadata": {},
     "output_type": "execute_result"
    }
   ],
   "source": [
    "new_errors.keys()"
   ]
  },
  {
   "cell_type": "code",
   "execution_count": null,
   "id": "1d39e119",
   "metadata": {},
   "outputs": [],
   "source": []
  }
 ],
 "metadata": {
  "kernelspec": {
   "display_name": "Python 3 (ipykernel)",
   "language": "python",
   "name": "python3"
  },
  "language_info": {
   "codemirror_mode": {
    "name": "ipython",
    "version": 3
   },
   "file_extension": ".py",
   "mimetype": "text/x-python",
   "name": "python",
   "nbconvert_exporter": "python",
   "pygments_lexer": "ipython3",
   "version": "3.10.6"
  }
 },
 "nbformat": 4,
 "nbformat_minor": 5
}
